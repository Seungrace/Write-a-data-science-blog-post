{
 "cells": [
  {
   "cell_type": "code",
   "execution_count": 1,
   "id": "sized-working",
   "metadata": {},
   "outputs": [],
   "source": [
    "#import\n",
    "import os\n",
    "import pandas as pd\n",
    "import numpy as np\n",
    "import matplotlib.pyplot as plt\n",
    "\n",
    "#dataset path\n",
    "DATASET_PATH = os.path.join(\"datasets\" , \"Stack-OverFlow-2017\")\n",
    "\n",
    "def load_data(dataset_path=DATASET_PATH):\n",
    "    \"\"\"Loads data from path.\"\"\"\n",
    "    csv_path = os.path.join(dataset_path, \"survey_results_public.csv\")\n",
    "    return pd.read_csv(csv_path)\n",
    "\n",
    "df = load_data()"
   ]
  },
  {
   "cell_type": "code",
   "execution_count": 2,
   "id": "vital-teacher",
   "metadata": {},
   "outputs": [
    {
     "data": {
      "text/plain": [
       "RangeIndex(start=0, stop=51392, step=1)"
      ]
     },
     "execution_count": 2,
     "metadata": {},
     "output_type": "execute_result"
    }
   ],
   "source": [
    "df.index #no need really only if u need to indicate the amount of people taking the survey"
   ]
  },
  {
   "cell_type": "code",
   "execution_count": 3,
   "id": "everyday-ottawa",
   "metadata": {
    "scrolled": true
   },
   "outputs": [
    {
     "data": {
      "text/plain": [
       "['Respondent',\n",
       " 'Professional',\n",
       " 'ProgramHobby',\n",
       " 'Country',\n",
       " 'University',\n",
       " 'EmploymentStatus',\n",
       " 'FormalEducation',\n",
       " 'MajorUndergrad',\n",
       " 'HomeRemote',\n",
       " 'CompanySize',\n",
       " 'CompanyType',\n",
       " 'YearsProgram',\n",
       " 'YearsCodedJob',\n",
       " 'YearsCodedJobPast',\n",
       " 'DeveloperType',\n",
       " 'WebDeveloperType',\n",
       " 'MobileDeveloperType',\n",
       " 'NonDeveloperType',\n",
       " 'CareerSatisfaction',\n",
       " 'JobSatisfaction',\n",
       " 'ExCoderReturn',\n",
       " 'ExCoderNotForMe',\n",
       " 'ExCoderBalance',\n",
       " 'ExCoder10Years',\n",
       " 'ExCoderBelonged',\n",
       " 'ExCoderSkills',\n",
       " 'ExCoderWillNotCode',\n",
       " 'ExCoderActive',\n",
       " 'PronounceGIF',\n",
       " 'ProblemSolving',\n",
       " 'BuildingThings',\n",
       " 'LearningNewTech',\n",
       " 'BoringDetails',\n",
       " 'JobSecurity',\n",
       " 'DiversityImportant',\n",
       " 'AnnoyingUI',\n",
       " 'FriendsDevelopers',\n",
       " 'RightWrongWay',\n",
       " 'UnderstandComputers',\n",
       " 'SeriousWork',\n",
       " 'InvestTimeTools',\n",
       " 'WorkPayCare',\n",
       " 'KinshipDevelopers',\n",
       " 'ChallengeMyself',\n",
       " 'CompetePeers',\n",
       " 'ChangeWorld',\n",
       " 'JobSeekingStatus',\n",
       " 'HoursPerWeek',\n",
       " 'LastNewJob',\n",
       " 'AssessJobIndustry',\n",
       " 'AssessJobRole',\n",
       " 'AssessJobExp',\n",
       " 'AssessJobDept',\n",
       " 'AssessJobTech',\n",
       " 'AssessJobProjects',\n",
       " 'AssessJobCompensation',\n",
       " 'AssessJobOffice',\n",
       " 'AssessJobCommute',\n",
       " 'AssessJobRemote',\n",
       " 'AssessJobLeaders',\n",
       " 'AssessJobProfDevel',\n",
       " 'AssessJobDiversity',\n",
       " 'AssessJobProduct',\n",
       " 'AssessJobFinances',\n",
       " 'ImportantBenefits',\n",
       " 'ClickyKeys',\n",
       " 'JobProfile',\n",
       " 'ResumePrompted',\n",
       " 'LearnedHiring',\n",
       " 'ImportantHiringAlgorithms',\n",
       " 'ImportantHiringTechExp',\n",
       " 'ImportantHiringCommunication',\n",
       " 'ImportantHiringOpenSource',\n",
       " 'ImportantHiringPMExp',\n",
       " 'ImportantHiringCompanies',\n",
       " 'ImportantHiringTitles',\n",
       " 'ImportantHiringEducation',\n",
       " 'ImportantHiringRep',\n",
       " 'ImportantHiringGettingThingsDone',\n",
       " 'Currency',\n",
       " 'Overpaid',\n",
       " 'TabsSpaces',\n",
       " 'EducationImportant',\n",
       " 'EducationTypes',\n",
       " 'SelfTaughtTypes',\n",
       " 'TimeAfterBootcamp',\n",
       " 'CousinEducation',\n",
       " 'WorkStart',\n",
       " 'HaveWorkedLanguage',\n",
       " 'WantWorkLanguage',\n",
       " 'HaveWorkedFramework',\n",
       " 'WantWorkFramework',\n",
       " 'HaveWorkedDatabase',\n",
       " 'WantWorkDatabase',\n",
       " 'HaveWorkedPlatform',\n",
       " 'WantWorkPlatform',\n",
       " 'IDE',\n",
       " 'AuditoryEnvironment',\n",
       " 'Methodology',\n",
       " 'VersionControl',\n",
       " 'CheckInCode',\n",
       " 'ShipIt',\n",
       " 'OtherPeoplesCode',\n",
       " 'ProjectManagement',\n",
       " 'EnjoyDebugging',\n",
       " 'InTheZone',\n",
       " 'DifficultCommunication',\n",
       " 'CollaborateRemote',\n",
       " 'MetricAssess',\n",
       " 'EquipmentSatisfiedMonitors',\n",
       " 'EquipmentSatisfiedCPU',\n",
       " 'EquipmentSatisfiedRAM',\n",
       " 'EquipmentSatisfiedStorage',\n",
       " 'EquipmentSatisfiedRW',\n",
       " 'InfluenceInternet',\n",
       " 'InfluenceWorkstation',\n",
       " 'InfluenceHardware',\n",
       " 'InfluenceServers',\n",
       " 'InfluenceTechStack',\n",
       " 'InfluenceDeptTech',\n",
       " 'InfluenceVizTools',\n",
       " 'InfluenceDatabase',\n",
       " 'InfluenceCloud',\n",
       " 'InfluenceConsultants',\n",
       " 'InfluenceRecruitment',\n",
       " 'InfluenceCommunication',\n",
       " 'StackOverflowDescribes',\n",
       " 'StackOverflowSatisfaction',\n",
       " 'StackOverflowDevices',\n",
       " 'StackOverflowFoundAnswer',\n",
       " 'StackOverflowCopiedCode',\n",
       " 'StackOverflowJobListing',\n",
       " 'StackOverflowCompanyPage',\n",
       " 'StackOverflowJobSearch',\n",
       " 'StackOverflowNewQuestion',\n",
       " 'StackOverflowAnswer',\n",
       " 'StackOverflowMetaChat',\n",
       " 'StackOverflowAdsRelevant',\n",
       " 'StackOverflowAdsDistracting',\n",
       " 'StackOverflowModeration',\n",
       " 'StackOverflowCommunity',\n",
       " 'StackOverflowHelpful',\n",
       " 'StackOverflowBetter',\n",
       " 'StackOverflowWhatDo',\n",
       " 'StackOverflowMakeMoney',\n",
       " 'Gender',\n",
       " 'HighestEducationParents',\n",
       " 'Race',\n",
       " 'SurveyLong',\n",
       " 'QuestionsInteresting',\n",
       " 'QuestionsConfusing',\n",
       " 'InterestedAnswers',\n",
       " 'Salary',\n",
       " 'ExpectedSalary']"
      ]
     },
     "metadata": {},
     "output_type": "display_data"
    }
   ],
   "source": [
    "display(df.columns.tolist())"
   ]
  },
  {
   "cell_type": "markdown",
   "id": "possible-newman",
   "metadata": {},
   "source": [
    "# 1) DOES SALARY HAVE AN EFFECT ON CAREER SATISFACTION?\n",
    "\n",
    "We need to know the relationship between career satisfaction , in order to determine if they would be good metrics for success for the stackflow survey's software developers"
   ]
  },
  {
   "cell_type": "code",
   "execution_count": 4,
   "id": "disabled-likelihood",
   "metadata": {
    "scrolled": true
   },
   "outputs": [
    {
     "data": {
      "text/html": [
       "<div>\n",
       "<style scoped>\n",
       "    .dataframe tbody tr th:only-of-type {\n",
       "        vertical-align: middle;\n",
       "    }\n",
       "\n",
       "    .dataframe tbody tr th {\n",
       "        vertical-align: top;\n",
       "    }\n",
       "\n",
       "    .dataframe thead th {\n",
       "        text-align: right;\n",
       "    }\n",
       "</style>\n",
       "<table border=\"1\" class=\"dataframe\">\n",
       "  <thead>\n",
       "    <tr style=\"text-align: right;\">\n",
       "      <th></th>\n",
       "      <th>CareerSatisfaction</th>\n",
       "      <th>University</th>\n",
       "      <th>EmploymentStatus</th>\n",
       "      <th>FormalEducation</th>\n",
       "      <th>MajorUndergrad</th>\n",
       "      <th>Salary</th>\n",
       "      <th>JobSatisfaction</th>\n",
       "      <th>Respondent</th>\n",
       "      <th>HomeRemote</th>\n",
       "      <th>Gender</th>\n",
       "    </tr>\n",
       "  </thead>\n",
       "  <tbody>\n",
       "    <tr>\n",
       "      <th>0</th>\n",
       "      <td>NaN</td>\n",
       "      <td>No</td>\n",
       "      <td>Not employed, and not looking for work</td>\n",
       "      <td>Secondary school</td>\n",
       "      <td>NaN</td>\n",
       "      <td>NaN</td>\n",
       "      <td>NaN</td>\n",
       "      <td>1</td>\n",
       "      <td>NaN</td>\n",
       "      <td>Male</td>\n",
       "    </tr>\n",
       "    <tr>\n",
       "      <th>1</th>\n",
       "      <td>NaN</td>\n",
       "      <td>Yes, full-time</td>\n",
       "      <td>Employed part-time</td>\n",
       "      <td>Some college/university study without earning ...</td>\n",
       "      <td>Computer science or software engineering</td>\n",
       "      <td>NaN</td>\n",
       "      <td>NaN</td>\n",
       "      <td>2</td>\n",
       "      <td>More than half, but not all, the time</td>\n",
       "      <td>Male</td>\n",
       "    </tr>\n",
       "    <tr>\n",
       "      <th>2</th>\n",
       "      <td>8.0</td>\n",
       "      <td>No</td>\n",
       "      <td>Employed full-time</td>\n",
       "      <td>Bachelor's degree</td>\n",
       "      <td>Computer science or software engineering</td>\n",
       "      <td>113750.0</td>\n",
       "      <td>9.0</td>\n",
       "      <td>3</td>\n",
       "      <td>Less than half the time, but at least one day ...</td>\n",
       "      <td>Male</td>\n",
       "    </tr>\n",
       "    <tr>\n",
       "      <th>3</th>\n",
       "      <td>6.0</td>\n",
       "      <td>No</td>\n",
       "      <td>Employed full-time</td>\n",
       "      <td>Doctoral degree</td>\n",
       "      <td>A non-computer-focused engineering discipline</td>\n",
       "      <td>NaN</td>\n",
       "      <td>3.0</td>\n",
       "      <td>4</td>\n",
       "      <td>Less than half the time, but at least one day ...</td>\n",
       "      <td>Male</td>\n",
       "    </tr>\n",
       "    <tr>\n",
       "      <th>4</th>\n",
       "      <td>6.0</td>\n",
       "      <td>No</td>\n",
       "      <td>Employed full-time</td>\n",
       "      <td>Master's degree</td>\n",
       "      <td>Computer science or software engineering</td>\n",
       "      <td>NaN</td>\n",
       "      <td>8.0</td>\n",
       "      <td>5</td>\n",
       "      <td>Never</td>\n",
       "      <td>NaN</td>\n",
       "    </tr>\n",
       "  </tbody>\n",
       "</table>\n",
       "</div>"
      ],
      "text/plain": [
       "   CareerSatisfaction      University                        EmploymentStatus  \\\n",
       "0                 NaN              No  Not employed, and not looking for work   \n",
       "1                 NaN  Yes, full-time                      Employed part-time   \n",
       "2                 8.0              No                      Employed full-time   \n",
       "3                 6.0              No                      Employed full-time   \n",
       "4                 6.0              No                      Employed full-time   \n",
       "\n",
       "                                     FormalEducation  \\\n",
       "0                                   Secondary school   \n",
       "1  Some college/university study without earning ...   \n",
       "2                                  Bachelor's degree   \n",
       "3                                    Doctoral degree   \n",
       "4                                    Master's degree   \n",
       "\n",
       "                                  MajorUndergrad    Salary  JobSatisfaction  \\\n",
       "0                                            NaN       NaN              NaN   \n",
       "1       Computer science or software engineering       NaN              NaN   \n",
       "2       Computer science or software engineering  113750.0              9.0   \n",
       "3  A non-computer-focused engineering discipline       NaN              3.0   \n",
       "4       Computer science or software engineering       NaN              8.0   \n",
       "\n",
       "   Respondent                                         HomeRemote Gender  \n",
       "0           1                                                NaN   Male  \n",
       "1           2              More than half, but not all, the time   Male  \n",
       "2           3  Less than half the time, but at least one day ...   Male  \n",
       "3           4  Less than half the time, but at least one day ...   Male  \n",
       "4           5                                              Never    NaN  "
      ]
     },
     "execution_count": 4,
     "metadata": {},
     "output_type": "execute_result"
    }
   ],
   "source": [
    "#Data Preparation, Selecting relevant columns\n",
    "cols = ['CareerSatisfaction', 'University','EmploymentStatus','FormalEducation','MajorUndergrad','Salary','JobSatisfaction','Respondent','HomeRemote', 'Gender']\n",
    "df_cols = df[cols]\n",
    "df_cols.head()\n"
   ]
  },
  {
   "cell_type": "code",
   "execution_count": 5,
   "id": "under-entrance",
   "metadata": {
    "scrolled": false
   },
   "outputs": [
    {
     "data": {
      "text/html": [
       "<div>\n",
       "<style scoped>\n",
       "    .dataframe tbody tr th:only-of-type {\n",
       "        vertical-align: middle;\n",
       "    }\n",
       "\n",
       "    .dataframe tbody tr th {\n",
       "        vertical-align: top;\n",
       "    }\n",
       "\n",
       "    .dataframe thead th {\n",
       "        text-align: right;\n",
       "    }\n",
       "</style>\n",
       "<table border=\"1\" class=\"dataframe\">\n",
       "  <thead>\n",
       "    <tr style=\"text-align: right;\">\n",
       "      <th></th>\n",
       "      <th>CareerSatisfaction</th>\n",
       "      <th>University</th>\n",
       "      <th>EmploymentStatus</th>\n",
       "      <th>FormalEducation</th>\n",
       "      <th>MajorUndergrad</th>\n",
       "      <th>Salary</th>\n",
       "      <th>JobSatisfaction</th>\n",
       "      <th>Respondent</th>\n",
       "      <th>HomeRemote</th>\n",
       "      <th>Gender</th>\n",
       "    </tr>\n",
       "  </thead>\n",
       "  <tbody>\n",
       "    <tr>\n",
       "      <th>2</th>\n",
       "      <td>8.0</td>\n",
       "      <td>No</td>\n",
       "      <td>Employed full-time</td>\n",
       "      <td>Bachelor's degree</td>\n",
       "      <td>Computer science or software engineering</td>\n",
       "      <td>113750.0</td>\n",
       "      <td>9.0</td>\n",
       "      <td>3</td>\n",
       "      <td>Less than half the time, but at least one day ...</td>\n",
       "      <td>Male</td>\n",
       "    </tr>\n",
       "    <tr>\n",
       "      <th>14</th>\n",
       "      <td>8.0</td>\n",
       "      <td>No</td>\n",
       "      <td>Employed full-time</td>\n",
       "      <td>Professional degree</td>\n",
       "      <td>Computer engineering or electrical/electronics...</td>\n",
       "      <td>100000.0</td>\n",
       "      <td>8.0</td>\n",
       "      <td>15</td>\n",
       "      <td>All or almost all the time (I'm full-time remote)</td>\n",
       "      <td>Male</td>\n",
       "    </tr>\n",
       "    <tr>\n",
       "      <th>17</th>\n",
       "      <td>9.0</td>\n",
       "      <td>Yes, part-time</td>\n",
       "      <td>Employed full-time</td>\n",
       "      <td>Bachelor's degree</td>\n",
       "      <td>Computer science or software engineering</td>\n",
       "      <td>130000.0</td>\n",
       "      <td>8.0</td>\n",
       "      <td>18</td>\n",
       "      <td>All or almost all the time (I'm full-time remote)</td>\n",
       "      <td>Male</td>\n",
       "    </tr>\n",
       "    <tr>\n",
       "      <th>22</th>\n",
       "      <td>8.0</td>\n",
       "      <td>No</td>\n",
       "      <td>Employed full-time</td>\n",
       "      <td>Bachelor's degree</td>\n",
       "      <td>Computer engineering or electrical/electronics...</td>\n",
       "      <td>100764.0</td>\n",
       "      <td>9.0</td>\n",
       "      <td>23</td>\n",
       "      <td>A few days each month</td>\n",
       "      <td>Male</td>\n",
       "    </tr>\n",
       "    <tr>\n",
       "      <th>25</th>\n",
       "      <td>7.0</td>\n",
       "      <td>No</td>\n",
       "      <td>Employed full-time</td>\n",
       "      <td>Master's degree</td>\n",
       "      <td>Computer science or software engineering</td>\n",
       "      <td>175000.0</td>\n",
       "      <td>7.0</td>\n",
       "      <td>26</td>\n",
       "      <td>Less than half the time, but at least one day ...</td>\n",
       "      <td>Male</td>\n",
       "    </tr>\n",
       "  </tbody>\n",
       "</table>\n",
       "</div>"
      ],
      "text/plain": [
       "    CareerSatisfaction      University    EmploymentStatus  \\\n",
       "2                  8.0              No  Employed full-time   \n",
       "14                 8.0              No  Employed full-time   \n",
       "17                 9.0  Yes, part-time  Employed full-time   \n",
       "22                 8.0              No  Employed full-time   \n",
       "25                 7.0              No  Employed full-time   \n",
       "\n",
       "        FormalEducation                                     MajorUndergrad  \\\n",
       "2     Bachelor's degree           Computer science or software engineering   \n",
       "14  Professional degree  Computer engineering or electrical/electronics...   \n",
       "17    Bachelor's degree           Computer science or software engineering   \n",
       "22    Bachelor's degree  Computer engineering or electrical/electronics...   \n",
       "25      Master's degree           Computer science or software engineering   \n",
       "\n",
       "      Salary  JobSatisfaction  Respondent  \\\n",
       "2   113750.0              9.0           3   \n",
       "14  100000.0              8.0          15   \n",
       "17  130000.0              8.0          18   \n",
       "22  100764.0              9.0          23   \n",
       "25  175000.0              7.0          26   \n",
       "\n",
       "                                           HomeRemote Gender  \n",
       "2   Less than half the time, but at least one day ...   Male  \n",
       "14  All or almost all the time (I'm full-time remote)   Male  \n",
       "17  All or almost all the time (I'm full-time remote)   Male  \n",
       "22                              A few days each month   Male  \n",
       "25  Less than half the time, but at least one day ...   Male  "
      ]
     },
     "execution_count": 5,
     "metadata": {},
     "output_type": "execute_result"
    }
   ],
   "source": [
    "# Cleaning out the data , dropping rows with empty data\n",
    "df_selectedcols = df_cols.dropna(how = 'any')\n",
    "df_selectedcols.head() #since we know its cleaned, its there a need."
   ]
  },
  {
   "cell_type": "code",
   "execution_count": 6,
   "id": "referenced-batch",
   "metadata": {
    "scrolled": true
   },
   "outputs": [
    {
     "data": {
      "text/html": [
       "<div>\n",
       "<style scoped>\n",
       "    .dataframe tbody tr th:only-of-type {\n",
       "        vertical-align: middle;\n",
       "    }\n",
       "\n",
       "    .dataframe tbody tr th {\n",
       "        vertical-align: top;\n",
       "    }\n",
       "\n",
       "    .dataframe thead th {\n",
       "        text-align: right;\n",
       "    }\n",
       "</style>\n",
       "<table border=\"1\" class=\"dataframe\">\n",
       "  <thead>\n",
       "    <tr style=\"text-align: right;\">\n",
       "      <th></th>\n",
       "      <th>CareerSatisfaction</th>\n",
       "      <th>Salary</th>\n",
       "    </tr>\n",
       "  </thead>\n",
       "  <tbody>\n",
       "    <tr>\n",
       "      <th>0</th>\n",
       "      <td>NaN</td>\n",
       "      <td>NaN</td>\n",
       "    </tr>\n",
       "    <tr>\n",
       "      <th>1</th>\n",
       "      <td>NaN</td>\n",
       "      <td>NaN</td>\n",
       "    </tr>\n",
       "    <tr>\n",
       "      <th>2</th>\n",
       "      <td>8.0</td>\n",
       "      <td>113750.0</td>\n",
       "    </tr>\n",
       "    <tr>\n",
       "      <th>3</th>\n",
       "      <td>6.0</td>\n",
       "      <td>NaN</td>\n",
       "    </tr>\n",
       "    <tr>\n",
       "      <th>4</th>\n",
       "      <td>6.0</td>\n",
       "      <td>NaN</td>\n",
       "    </tr>\n",
       "  </tbody>\n",
       "</table>\n",
       "</div>"
      ],
      "text/plain": [
       "   CareerSatisfaction    Salary\n",
       "0                 NaN       NaN\n",
       "1                 NaN       NaN\n",
       "2                 8.0  113750.0\n",
       "3                 6.0       NaN\n",
       "4                 6.0       NaN"
      ]
     },
     "execution_count": 6,
     "metadata": {},
     "output_type": "execute_result"
    }
   ],
   "source": [
    "df2_cols=df[cols[:8 :5]] #hard to index, but optional to inculde, meaning we have to specify what columns we are including\n",
    "df2_cols.head()"
   ]
  },
  {
   "cell_type": "code",
   "execution_count": 7,
   "id": "ancient-tamil",
   "metadata": {},
   "outputs": [
    {
     "data": {
      "image/png": "[encoded data removed]",
      "text/plain": [
       "<Figure size 432x288 with 1 Axes>"
      ]
     },
     "metadata": {
      "needs_background": "light"
     },
     "output_type": "display_data"
    }
   ],
   "source": [
    "# Checking the relationship of CareerSatisfaction and Salary\n",
    "df2_cols.plot(x='CareerSatisfaction', y='Salary', style='o')\n",
    "\n",
    "d = {'CareerSatisfaction' : np.random.rand(10),\n",
    "     'Salary' : np.random.rand(10)}\n",
    "\n",
    "df2 = pd.DataFrame(d)\n"
   ]
  },
  {
   "cell_type": "markdown",
   "id": "ongoing-seven",
   "metadata": {},
   "source": [
    "# As shown in the figure/plot above, Salary has an impact on the Career Satisfaction of software developers"
   ]
  },
  {
   "cell_type": "markdown",
   "id": "interracial-being",
   "metadata": {},
   "source": [
    "# 2. DO YOU NEED TO ATTEND A UNIVERSITY BEFORE BECOMING A SUCCESSFUL SOFTWARE DEVELOPER?¶\n"
   ]
  },
  {
   "cell_type": "code",
   "execution_count": 8,
   "id": "protective-ending",
   "metadata": {},
   "outputs": [
    {
     "data": {
      "text/plain": [
       "No                     37543\n",
       "Yes, full-time          9369\n",
       "Yes, part-time          3352\n",
       "I prefer not to say     1128\n",
       "Name: University, dtype: int64"
      ]
     },
     "execution_count": 8,
     "metadata": {},
     "output_type": "execute_result"
    }
   ],
   "source": [
    "df_cols['University'].value_counts()"
   ]
  },
  {
   "cell_type": "code",
   "execution_count": 9,
   "id": "friendly-console",
   "metadata": {},
   "outputs": [
    {
     "data": {
      "text/plain": [
       "<AxesSubplot:>"
      ]
     },
     "execution_count": 9,
     "metadata": {},
     "output_type": "execute_result"
    },
    {
     "data": {
      "image/png": "[encoded data removed]",
      "text/plain": [
       "<Figure size 1080x504 with 1 Axes>"
      ]
     },
     "metadata": {
      "needs_background": "light"
     },
     "output_type": "display_data"
    }
   ],
   "source": [
    "df_cols['University'].value_counts().plot(kind=\"bar\", figsize=(15,7), color=\"#61d199\")"
   ]
  },
  {
   "cell_type": "markdown",
   "id": "local-trash",
   "metadata": {},
   "source": [
    "# OVER 37000 DEVS DID NOT ATTEND UNIVERSITY"
   ]
  },
  {
   "cell_type": "code",
   "execution_count": 10,
   "id": "occupied-allocation",
   "metadata": {},
   "outputs": [],
   "source": [
    "def df_eq(col, row ):\n",
    "    \"\"\"Shortens df_cols[col]== row\"\"\"\n",
    "    \n",
    "    return (df_cols[col]== row)\n",
    "\n",
    "def df_gr(col, row):\n",
    "    \"\"\" Shortens df_cols[col]>= row \"\"\" \n",
    "    return (df_cols[col] >= row)\n",
    "\n",
    "def df_lt(col,row):\n",
    "    \"\"\" Shortens df_cols[col]<= row \"\"\"\n",
    "    return (df_cols[col] <= row)"
   ]
  },
  {
   "cell_type": "code",
   "execution_count": 11,
   "id": "cloudy-effect",
   "metadata": {
    "scrolled": true
   },
   "outputs": [
    {
     "data": {
      "text/plain": [
       "(36148, 10)"
      ]
     },
     "execution_count": 11,
     "metadata": {},
     "output_type": "execute_result"
    }
   ],
   "source": [
    "df_cols[df_eq('EmploymentStatus','Employed full-time')].shape"
   ]
  },
  {
   "cell_type": "markdown",
   "id": "advised-separate",
   "metadata": {},
   "source": [
    "# Over 36000 Devs are Employed Fulltime"
   ]
  },
  {
   "cell_type": "code",
   "execution_count": 12,
   "id": "million-swing",
   "metadata": {},
   "outputs": [
    {
     "data": {
      "text/html": [
       "<div>\n",
       "<style scoped>\n",
       "    .dataframe tbody tr th:only-of-type {\n",
       "        vertical-align: middle;\n",
       "    }\n",
       "\n",
       "    .dataframe tbody tr th {\n",
       "        vertical-align: top;\n",
       "    }\n",
       "\n",
       "    .dataframe thead th {\n",
       "        text-align: right;\n",
       "    }\n",
       "</style>\n",
       "<table border=\"1\" class=\"dataframe\">\n",
       "  <thead>\n",
       "    <tr style=\"text-align: right;\">\n",
       "      <th></th>\n",
       "      <th>CareerSatisfaction</th>\n",
       "      <th>University</th>\n",
       "      <th>EmploymentStatus</th>\n",
       "      <th>FormalEducation</th>\n",
       "      <th>MajorUndergrad</th>\n",
       "      <th>Salary</th>\n",
       "      <th>JobSatisfaction</th>\n",
       "      <th>Respondent</th>\n",
       "      <th>HomeRemote</th>\n",
       "      <th>Gender</th>\n",
       "    </tr>\n",
       "  </thead>\n",
       "  <tbody>\n",
       "    <tr>\n",
       "      <th>2</th>\n",
       "      <td>8.0</td>\n",
       "      <td>No</td>\n",
       "      <td>Employed full-time</td>\n",
       "      <td>Bachelor's degree</td>\n",
       "      <td>Computer science or software engineering</td>\n",
       "      <td>113750.0</td>\n",
       "      <td>9.0</td>\n",
       "      <td>3</td>\n",
       "      <td>Less than half the time, but at least one day ...</td>\n",
       "      <td>Male</td>\n",
       "    </tr>\n",
       "    <tr>\n",
       "      <th>3</th>\n",
       "      <td>6.0</td>\n",
       "      <td>No</td>\n",
       "      <td>Employed full-time</td>\n",
       "      <td>Doctoral degree</td>\n",
       "      <td>A non-computer-focused engineering discipline</td>\n",
       "      <td>NaN</td>\n",
       "      <td>3.0</td>\n",
       "      <td>4</td>\n",
       "      <td>Less than half the time, but at least one day ...</td>\n",
       "      <td>Male</td>\n",
       "    </tr>\n",
       "    <tr>\n",
       "      <th>4</th>\n",
       "      <td>6.0</td>\n",
       "      <td>No</td>\n",
       "      <td>Employed full-time</td>\n",
       "      <td>Master's degree</td>\n",
       "      <td>Computer science or software engineering</td>\n",
       "      <td>NaN</td>\n",
       "      <td>8.0</td>\n",
       "      <td>5</td>\n",
       "      <td>Never</td>\n",
       "      <td>NaN</td>\n",
       "    </tr>\n",
       "    <tr>\n",
       "      <th>6</th>\n",
       "      <td>7.0</td>\n",
       "      <td>No</td>\n",
       "      <td>Employed full-time</td>\n",
       "      <td>Master's degree</td>\n",
       "      <td>A non-computer-focused engineering discipline</td>\n",
       "      <td>NaN</td>\n",
       "      <td>6.0</td>\n",
       "      <td>7</td>\n",
       "      <td>Less than half the time, but at least one day ...</td>\n",
       "      <td>Male</td>\n",
       "    </tr>\n",
       "    <tr>\n",
       "      <th>7</th>\n",
       "      <td>7.0</td>\n",
       "      <td>No</td>\n",
       "      <td>Employed full-time</td>\n",
       "      <td>Master's degree</td>\n",
       "      <td>Computer science or software engineering</td>\n",
       "      <td>NaN</td>\n",
       "      <td>7.0</td>\n",
       "      <td>8</td>\n",
       "      <td>All or almost all the time (I'm full-time remote)</td>\n",
       "      <td>Male</td>\n",
       "    </tr>\n",
       "    <tr>\n",
       "      <th>...</th>\n",
       "      <td>...</td>\n",
       "      <td>...</td>\n",
       "      <td>...</td>\n",
       "      <td>...</td>\n",
       "      <td>...</td>\n",
       "      <td>...</td>\n",
       "      <td>...</td>\n",
       "      <td>...</td>\n",
       "      <td>...</td>\n",
       "      <td>...</td>\n",
       "    </tr>\n",
       "    <tr>\n",
       "      <th>51386</th>\n",
       "      <td>7.0</td>\n",
       "      <td>No</td>\n",
       "      <td>Employed full-time</td>\n",
       "      <td>Some college/university study without earning ...</td>\n",
       "      <td>Something else</td>\n",
       "      <td>NaN</td>\n",
       "      <td>4.0</td>\n",
       "      <td>51387</td>\n",
       "      <td>It's complicated</td>\n",
       "      <td>Male</td>\n",
       "    </tr>\n",
       "    <tr>\n",
       "      <th>51387</th>\n",
       "      <td>7.0</td>\n",
       "      <td>No</td>\n",
       "      <td>Employed full-time</td>\n",
       "      <td>Bachelor's degree</td>\n",
       "      <td>A social science</td>\n",
       "      <td>58000.0</td>\n",
       "      <td>3.0</td>\n",
       "      <td>51388</td>\n",
       "      <td>A few days each month</td>\n",
       "      <td>Male</td>\n",
       "    </tr>\n",
       "    <tr>\n",
       "      <th>51389</th>\n",
       "      <td>10.0</td>\n",
       "      <td>No</td>\n",
       "      <td>Employed full-time</td>\n",
       "      <td>Some college/university study without earning ...</td>\n",
       "      <td>Information technology, networking, or system ...</td>\n",
       "      <td>NaN</td>\n",
       "      <td>10.0</td>\n",
       "      <td>51390</td>\n",
       "      <td>Less than half the time, but at least one day ...</td>\n",
       "      <td>NaN</td>\n",
       "    </tr>\n",
       "    <tr>\n",
       "      <th>51390</th>\n",
       "      <td>6.0</td>\n",
       "      <td>No</td>\n",
       "      <td>Employed full-time</td>\n",
       "      <td>Bachelor's degree</td>\n",
       "      <td>Computer science or software engineering</td>\n",
       "      <td>40000.0</td>\n",
       "      <td>7.0</td>\n",
       "      <td>51391</td>\n",
       "      <td>Never</td>\n",
       "      <td>Male</td>\n",
       "    </tr>\n",
       "    <tr>\n",
       "      <th>51391</th>\n",
       "      <td>8.0</td>\n",
       "      <td>No</td>\n",
       "      <td>Employed full-time</td>\n",
       "      <td>Bachelor's degree</td>\n",
       "      <td>Computer science or software engineering</td>\n",
       "      <td>NaN</td>\n",
       "      <td>8.0</td>\n",
       "      <td>51392</td>\n",
       "      <td>It's complicated</td>\n",
       "      <td>Male</td>\n",
       "    </tr>\n",
       "  </tbody>\n",
       "</table>\n",
       "<p>29996 rows × 10 columns</p>\n",
       "</div>"
      ],
      "text/plain": [
       "       CareerSatisfaction University    EmploymentStatus  \\\n",
       "2                     8.0         No  Employed full-time   \n",
       "3                     6.0         No  Employed full-time   \n",
       "4                     6.0         No  Employed full-time   \n",
       "6                     7.0         No  Employed full-time   \n",
       "7                     7.0         No  Employed full-time   \n",
       "...                   ...        ...                 ...   \n",
       "51386                 7.0         No  Employed full-time   \n",
       "51387                 7.0         No  Employed full-time   \n",
       "51389                10.0         No  Employed full-time   \n",
       "51390                 6.0         No  Employed full-time   \n",
       "51391                 8.0         No  Employed full-time   \n",
       "\n",
       "                                         FormalEducation  \\\n",
       "2                                      Bachelor's degree   \n",
       "3                                        Doctoral degree   \n",
       "4                                        Master's degree   \n",
       "6                                        Master's degree   \n",
       "7                                        Master's degree   \n",
       "...                                                  ...   \n",
       "51386  Some college/university study without earning ...   \n",
       "51387                                  Bachelor's degree   \n",
       "51389  Some college/university study without earning ...   \n",
       "51390                                  Bachelor's degree   \n",
       "51391                                  Bachelor's degree   \n",
       "\n",
       "                                          MajorUndergrad    Salary  \\\n",
       "2               Computer science or software engineering  113750.0   \n",
       "3          A non-computer-focused engineering discipline       NaN   \n",
       "4               Computer science or software engineering       NaN   \n",
       "6          A non-computer-focused engineering discipline       NaN   \n",
       "7               Computer science or software engineering       NaN   \n",
       "...                                                  ...       ...   \n",
       "51386                                     Something else       NaN   \n",
       "51387                                   A social science   58000.0   \n",
       "51389  Information technology, networking, or system ...       NaN   \n",
       "51390           Computer science or software engineering   40000.0   \n",
       "51391           Computer science or software engineering       NaN   \n",
       "\n",
       "       JobSatisfaction  Respondent  \\\n",
       "2                  9.0           3   \n",
       "3                  3.0           4   \n",
       "4                  8.0           5   \n",
       "6                  6.0           7   \n",
       "7                  7.0           8   \n",
       "...                ...         ...   \n",
       "51386              4.0       51387   \n",
       "51387              3.0       51388   \n",
       "51389             10.0       51390   \n",
       "51390              7.0       51391   \n",
       "51391              8.0       51392   \n",
       "\n",
       "                                              HomeRemote Gender  \n",
       "2      Less than half the time, but at least one day ...   Male  \n",
       "3      Less than half the time, but at least one day ...   Male  \n",
       "4                                                  Never    NaN  \n",
       "6      Less than half the time, but at least one day ...   Male  \n",
       "7      All or almost all the time (I'm full-time remote)   Male  \n",
       "...                                                  ...    ...  \n",
       "51386                                   It's complicated   Male  \n",
       "51387                              A few days each month   Male  \n",
       "51389  Less than half the time, but at least one day ...    NaN  \n",
       "51390                                              Never   Male  \n",
       "51391                                   It's complicated   Male  \n",
       "\n",
       "[29996 rows x 10 columns]"
      ]
     },
     "execution_count": 12,
     "metadata": {},
     "output_type": "execute_result"
    }
   ],
   "source": [
    "university=df_eq('University', 'No') #using the df_col function to reduce complexity/ boilerplate\n",
    "employed=df_eq('EmploymentStatus','Employed full-time')\n",
    "dev_nem=df_cols[university & employed ]#devs employed full time that didnt attend university\n",
    "dev_nem"
   ]
  },
  {
   "cell_type": "markdown",
   "id": "ranging-formation",
   "metadata": {},
   "source": [
    "Only 30,000 Devs employed full time that did not attend university."
   ]
  },
  {
   "cell_type": "code",
   "execution_count": 13,
   "id": "christian-enlargement",
   "metadata": {},
   "outputs": [
    {
     "data": {
      "text/plain": [
       "0.5836706102117061"
      ]
     },
     "execution_count": 13,
     "metadata": {},
     "output_type": "execute_result"
    }
   ],
   "source": [
    "dev_nem.shape[0] / df.shape[0] "
   ]
  },
  {
   "cell_type": "markdown",
   "id": "comfortable-plenty",
   "metadata": {},
   "source": [
    "# ANS: NO, 58% OF THOSE WHO TOOK THE SURVEY SATISFY THIS REQUIREMENT"
   ]
  },
  {
   "cell_type": "code",
   "execution_count": 14,
   "id": "governing-retirement",
   "metadata": {},
   "outputs": [],
   "source": [
    "dev_sat1= df_lt('CareerSatisfaction', 4.0) #include comments here\n",
    "dev_sat2= df_eq('CareerSatisfaction' , 5.0)\n",
    "dev_sat3= df_gr ('CareerSatisfaction' , 6.0)\n",
    "          \n",
    "dev_sad= df_cols[ dev_sat1 & university  & employed]\n",
    "\n",
    "dev_satisfied = df_cols[dev_sat2 & university  & employed]\n",
    "\n",
    "dev_happy = df_cols[ dev_sat3 &  university & employed ]"
   ]
  },
  {
   "cell_type": "markdown",
   "id": "formal-premises",
   "metadata": {},
   "source": [
    "In terms of Career Satisfaction"
   ]
  },
  {
   "cell_type": "code",
   "execution_count": 15,
   "id": "norman-wrong",
   "metadata": {},
   "outputs": [
    {
     "data": {
      "image/png": "[encoded data removed]",
      "text/plain": [
       "<Figure size 432x288 with 1 Axes>"
      ]
     },
     "metadata": {
      "needs_background": "light"
     },
     "output_type": "display_data"
    }
   ],
   "source": [
    "fig = plt.figure()\n",
    "ax = fig.add_axes([0,0,1,1])\n",
    "satisfaction = ['Happy', 'Satisfied','Sad']\n",
    "num = [len(dev_happy), len(dev_satisfied), len(dev_sad)]\n",
    "ax.bar(satisfaction, num)\n",
    "ax.set_title('Career Satisfaction')\n",
    "plt.show()"
   ]
  },
  {
   "cell_type": "markdown",
   "id": "expanded-outdoors",
   "metadata": {},
   "source": [
    "# ABOUT 25000 OUT OF THE 30000 FULL TIME EMPLOYED DEVS WHO DID NOT ATTEND UNIVERSITY ARE HAPPY WITH THEIR JOBS"
   ]
  },
  {
   "cell_type": "code",
   "execution_count": 16,
   "id": "manual-advantage",
   "metadata": {},
   "outputs": [
    {
     "data": {
      "text/plain": [
       "0.8431790905454061"
      ]
     },
     "execution_count": 16,
     "metadata": {},
     "output_type": "execute_result"
    }
   ],
   "source": [
    "dev_happy.shape[0]/dev_nem.shape[0]"
   ]
  },
  {
   "cell_type": "markdown",
   "id": "minus-tournament",
   "metadata": {},
   "source": [
    "# 84% of the developers that did not attend university and are employed full time are happy with their jobs."
   ]
  },
  {
   "cell_type": "markdown",
   "id": "dress-officer",
   "metadata": {},
   "source": [
    "# When it comes to Salaries..."
   ]
  },
  {
   "cell_type": "code",
   "execution_count": 17,
   "id": "variable-clearance",
   "metadata": {},
   "outputs": [
    {
     "data": {
      "text/plain": [
       "60198.957157869925"
      ]
     },
     "execution_count": 17,
     "metadata": {},
     "output_type": "execute_result"
    }
   ],
   "source": [
    "dev = df_cols[(df_gr('CareerSatisfaction' , 1.0) &  university & employed )]\n",
    "\n",
    "#calculate mean average of salaries\n",
    "dev['Salary'].mean()"
   ]
  },
  {
   "cell_type": "markdown",
   "id": "imposed-despite",
   "metadata": {},
   "source": [
    "# THESE DEVELOPERS WALK HOME WITH AN AVERAGE OF OVER $60,000."
   ]
  },
  {
   "cell_type": "markdown",
   "id": "promotional-shanghai",
   "metadata": {},
   "source": [
    "In terms of Career Satisfaction for those that attended university full time"
   ]
  },
  {
   "cell_type": "code",
   "execution_count": 18,
   "id": "acoustic-inquiry",
   "metadata": {},
   "outputs": [],
   "source": [
    "university2=(df_cols['University'] != 'No')\n",
    "university3=(df_cols['University'] != 'I prefer not to say')\n",
    "dev_nem2=df_cols[university2 & university3 & employed ]#devs employed full time that  attended university\n",
    "\n",
    "#dev_nem2 no real need, if u insist.."
   ]
  },
  {
   "cell_type": "markdown",
   "id": "together-journalist",
   "metadata": {},
   "source": [
    "5688 DEVS attended university both full time and part time and are employed"
   ]
  },
  {
   "cell_type": "code",
   "execution_count": 19,
   "id": "ruled-pharmacy",
   "metadata": {},
   "outputs": [],
   "source": [
    "#change the variables...\n",
    "dev_sad2=  df_cols[ dev_sat1 & university2 & university3  & employed]\n",
    "\n",
    "dev_satisfied2 = df_cols[ dev_sat2 & university2 & university3  & employed]\n",
    "\n",
    "dev_happy2 = df_cols[ dev_sat2 &  university2 & university3 & employed ]"
   ]
  },
  {
   "cell_type": "code",
   "execution_count": 20,
   "id": "nutritional-steel",
   "metadata": {
    "scrolled": true
   },
   "outputs": [
    {
     "data": {
      "text/plain": [
       "0.11067870485678705"
      ]
     },
     "execution_count": 20,
     "metadata": {},
     "output_type": "execute_result"
    }
   ],
   "source": [
    "dev_nem2.shape[0] / df.shape[0]"
   ]
  },
  {
   "cell_type": "markdown",
   "id": "floral-librarian",
   "metadata": {},
   "source": [
    "# 11% of Developers went to University and are employed either part time or full time"
   ]
  },
  {
   "cell_type": "code",
   "execution_count": 21,
   "id": "reported-information",
   "metadata": {},
   "outputs": [
    {
     "data": {
      "image/png": "[encoded data removed]",
      "text/plain": [
       "<Figure size 432x288 with 1 Axes>"
      ]
     },
     "metadata": {
      "needs_background": "light"
     },
     "output_type": "display_data"
    }
   ],
   "source": [
    "fig2 = plt.figure()\n",
    "ax2 = fig2.add_axes([0,0,1,1])\n",
    "satisfaction2 = ['Happy', 'Satisfied','Sad']\n",
    "num2 = [len(dev_happy2), len(dev_satisfied2), len(dev_sad2)]\n",
    "ax2.bar(satisfaction2, num2)\n",
    "ax2.set_title('Career Satisfaction')\n",
    "plt.show()"
   ]
  },
  {
   "cell_type": "markdown",
   "id": "sound-indicator",
   "metadata": {},
   "source": [
    "# ABOUT 4000 OUT OF 5688 FULL TIME EMPLOYED DEVS WHO ATTENDED UNIVERSITY ARE HAPPY WITH THEIR JOBS"
   ]
  },
  {
   "cell_type": "code",
   "execution_count": 22,
   "id": "radio-winter",
   "metadata": {},
   "outputs": [
    {
     "data": {
      "text/plain": [
       "0.06276371308016877"
      ]
     },
     "execution_count": 22,
     "metadata": {},
     "output_type": "execute_result"
    }
   ],
   "source": [
    "dev_happy2.shape[0]/dev_nem2.shape[0]"
   ]
  },
  {
   "cell_type": "markdown",
   "id": "electronic-brass",
   "metadata": {},
   "source": [
    "# 72% of the developers who attended University are happy /satisfied with their jobs"
   ]
  },
  {
   "cell_type": "code",
   "execution_count": 23,
   "id": "threaded-management",
   "metadata": {},
   "outputs": [
    {
     "data": {
      "text/plain": [
       "36229.716045887726"
      ]
     },
     "execution_count": 23,
     "metadata": {},
     "output_type": "execute_result"
    }
   ],
   "source": [
    "dev_part = df_cols[(df_cols['CareerSatisfaction']>=1.0) &  university2 &university3 & employed ]\n",
    "dev_part['Salary'].mean()"
   ]
  },
  {
   "cell_type": "markdown",
   "id": "fantastic-protection",
   "metadata": {},
   "source": [
    "#### AN AVERAGE OF $36000"
   ]
  },
  {
   "cell_type": "markdown",
   "id": "after-spider",
   "metadata": {},
   "source": [
    "# 3) HOW EFFECTIVE IS WORKING REMOTELY AS A SOFTWARE DEVELOPER."
   ]
  },
  {
   "cell_type": "markdown",
   "id": "social-strain",
   "metadata": {},
   "source": [
    " We would also use Career Satisfaction and salary as metrics , job satisfaction would be included as well"
   ]
  },
  {
   "cell_type": "code",
   "execution_count": 24,
   "id": "outdoor-mattress",
   "metadata": {},
   "outputs": [],
   "source": [
    "#But i thought col variable has done the job, u can reuse the variable. by inculding the indexes of col2\n",
    "#cols2= ['Respondent','EmploymentStatus','University','HomeRemote','CareerSatisfaction', 'JobSatisfaction','Salary']\n",
    "#df_selectedcols2= df[cols2].dropna(how='any')\n",
    "#df_selectedcols2.head()\n",
    "\n"
   ]
  },
  {
   "cell_type": "code",
   "execution_count": 25,
   "id": "classical-clock",
   "metadata": {
    "scrolled": false
   },
   "outputs": [
    {
     "data": {
      "text/plain": [
       "A few days each month                                      4335\n",
       "Never                                                      3599\n",
       "Less than half the time, but at least one day each week    1064\n",
       "All or almost all the time (I'm full-time remote)           734\n",
       "It's complicated                                            553\n",
       "About half the time                                         270\n",
       "More than half, but not all, the time                       266\n",
       "Name: HomeRemote, dtype: int64"
      ]
     },
     "execution_count": 25,
     "metadata": {},
     "output_type": "execute_result"
    }
   ],
   "source": [
    "df_selectedcols['HomeRemote'].value_counts()"
   ]
  },
  {
   "cell_type": "code",
   "execution_count": 26,
   "id": "heard-fortune",
   "metadata": {
    "scrolled": true
   },
   "outputs": [
    {
     "data": {
      "text/plain": [
       "<AxesSubplot:>"
      ]
     },
     "execution_count": 26,
     "metadata": {},
     "output_type": "execute_result"
    },
    {
     "data": {
      "image/png": "[encoded data removed]",
      "text/plain": [
       "<Figure size 1080x504 with 1 Axes>"
      ]
     },
     "metadata": {
      "needs_background": "light"
     },
     "output_type": "display_data"
    }
   ],
   "source": [
    "#i think u shld change from bar to aother diagram\n",
    "df_selectedcols['HomeRemote'].value_counts().plot(kind=\"bar\", figsize=(15,7), color=\"#61d199\")"
   ]
  },
  {
   "cell_type": "code",
   "execution_count": 27,
   "id": "promotional-surrey",
   "metadata": {},
   "outputs": [
    {
     "data": {
      "text/plain": [
       "56298.480640629256"
      ]
     },
     "execution_count": 27,
     "metadata": {},
     "output_type": "execute_result"
    }
   ],
   "source": [
    "#i think we shld remove this df dataframe mean()\n",
    "df['Salary'].mean()"
   ]
  },
  {
   "cell_type": "code",
   "execution_count": 28,
   "id": "quality-tonight",
   "metadata": {},
   "outputs": [
    {
     "data": {
      "text/plain": [
       "7.300573837685912"
      ]
     },
     "execution_count": 28,
     "metadata": {},
     "output_type": "execute_result"
    }
   ],
   "source": [
    "df['CareerSatisfaction'].mean() #i think us shld remove this df dataframe mean()"
   ]
  },
  {
   "cell_type": "code",
   "execution_count": 29,
   "id": "supported-organization",
   "metadata": {},
   "outputs": [
    {
     "data": {
      "text/plain": [
       "6.957078462452943"
      ]
     },
     "execution_count": 29,
     "metadata": {},
     "output_type": "execute_result"
    }
   ],
   "source": [
    "df['JobSatisfaction'].mean() #i think us shld remove this df dataframe mean()"
   ]
  },
  {
   "cell_type": "code",
   "execution_count": 30,
   "id": "incomplete-driving",
   "metadata": {},
   "outputs": [],
   "source": [
    "\n",
    "df_HR1 = df_selectedcols[(df_selectedcols['HomeRemote'] =='All or almost all the time (I\\'m full-time remote)')]\n",
    "df_HR2 = df_selectedcols[(df_selectedcols['HomeRemote'] =='More than half, but not all, the time')]\n",
    "df_HR3 = df_selectedcols[(df_selectedcols['HomeRemote'] =='About half the time')]\n",
    "df_HR4 = df_selectedcols[(df_selectedcols['HomeRemote'] == 'Less than half the time, but at least one day each week')]\n",
    "df_HR5 = df_selectedcols[(df_selectedcols['HomeRemote'] == 'A few days each month')]   \n",
    "df_HR6 = df_selectedcols[(df_selectedcols['HomeRemote'] == 'It\\'s complicated' )]\n",
    "df_HR7 = df_selectedcols[(df_selectedcols['HomeRemote'] ==  'Never')]"
   ]
  },
  {
   "cell_type": "code",
   "execution_count": 31,
   "id": "nutritional-swing",
   "metadata": {},
   "outputs": [
    {
     "data": {
      "text/plain": [
       "2        Less than half the time, but at least one day ...\n",
       "14       All or almost all the time (I'm full-time remote)\n",
       "17       All or almost all the time (I'm full-time remote)\n",
       "22                                   A few days each month\n",
       "25       Less than half the time, but at least one day ...\n",
       "                               ...                        \n",
       "51361                More than half, but not all, the time\n",
       "51371    All or almost all the time (I'm full-time remote)\n",
       "51382                                                Never\n",
       "51387                                A few days each month\n",
       "51390                                                Never\n",
       "Name: HomeRemote, Length: 10821, dtype: object"
      ]
     },
     "execution_count": 31,
     "metadata": {},
     "output_type": "execute_result"
    }
   ],
   "source": [
    "df_selectedcols['HomeRemote']"
   ]
  },
  {
   "cell_type": "code",
   "execution_count": 32,
   "id": "resident-supply",
   "metadata": {},
   "outputs": [],
   "source": [
    "#do you mean salary of above 56000 dollars are successful, very tricky metric.\n",
    "a_HR = df_HR1[(df_HR1['Salary']>=56000)] \n",
    "b_HR = df_HR2[(df_HR2['Salary']>=56000)]\n",
    "c_HR = df_HR3[(df_HR3['Salary']>=56000)]\n",
    "d_HR = df_HR4[(df_HR4['Salary']>=56000)]\n",
    "e_HR = df_HR5[(df_HR5['Salary']>=56000)]\n",
    "f_HR = df_HR6[(df_HR6['Salary']>=56000)]\n",
    "g_HR = df_HR7[(df_HR7['Salary']>=56000)]"
   ]
  },
  {
   "cell_type": "code",
   "execution_count": 33,
   "id": "demonstrated-vienna",
   "metadata": {},
   "outputs": [],
   "source": [
    "dev_HR = a_HR[(a_HR['CareerSatisfaction']>=7)&(a_HR['JobSatisfaction']>=7)]\n",
    "dev_HR1 = b_HR[(b_HR['CareerSatisfaction']>=7)&(b_HR['JobSatisfaction']>=7)]\n",
    "dev_HR2 = c_HR[(c_HR['CareerSatisfaction']>=7)&(c_HR['JobSatisfaction']>=7)]\n",
    "dev_HR3 = d_HR[(d_HR['CareerSatisfaction']>=7)&(d_HR['JobSatisfaction']>=7)]\n",
    "dev_HR4 = e_HR[(e_HR['CareerSatisfaction']>=7)&(e_HR['JobSatisfaction']>=7)]\n",
    "dev_HR5 = f_HR[(f_HR['CareerSatisfaction']>=7)&(f_HR['JobSatisfaction']>=7)]\n",
    "dev_HR6 = g_HR[(g_HR['CareerSatisfaction']>=7)&(g_HR['JobSatisfaction']>=7)]\n"
   ]
  },
  {
   "cell_type": "code",
   "execution_count": 34,
   "id": "specific-dollar",
   "metadata": {},
   "outputs": [],
   "source": [
    "a1 = dev_HR.shape[0]/df_HR1.shape[0]\n",
    "b1 = dev_HR1.shape[0]/df_HR2.shape[0]\n",
    "c1 = dev_HR2.shape[0]/df_HR3.shape[0]\n",
    "d1 = dev_HR3.shape[0]/df_HR4.shape[0]\n",
    "e1 = dev_HR4.shape[0]/df_HR5.shape[0]\n",
    "f1 = dev_HR5.shape[0]/df_HR6.shape[0]\n",
    "g1 = dev_HR6.shape[0]/df_HR7.shape[0]"
   ]
  },
  {
   "cell_type": "code",
   "execution_count": 35,
   "id": "breeding-frost",
   "metadata": {},
   "outputs": [
    {
     "data": {
      "text/plain": [
       "0.47275204359673023"
      ]
     },
     "execution_count": 35,
     "metadata": {},
     "output_type": "execute_result"
    }
   ],
   "source": [
    "a1 #i think this are not useful after  including a chart below. same for b1-g1"
   ]
  },
  {
   "cell_type": "markdown",
   "id": "endangered-packet",
   "metadata": {},
   "source": [
    "45% of Devs who worked 'All or almost all the time (I'm full-time remote)' are successful"
   ]
  },
  {
   "cell_type": "code",
   "execution_count": 36,
   "id": "hidden-architect",
   "metadata": {
    "scrolled": true
   },
   "outputs": [
    {
     "data": {
      "text/plain": [
       "0.31203007518796994"
      ]
     },
     "execution_count": 36,
     "metadata": {},
     "output_type": "execute_result"
    }
   ],
   "source": [
    "b1"
   ]
  },
  {
   "cell_type": "markdown",
   "id": "improving-comparative",
   "metadata": {},
   "source": [
    "28% of Devs who worked 'More than half, but not all, the time' are successful."
   ]
  },
  {
   "cell_type": "code",
   "execution_count": 37,
   "id": "phantom-reggae",
   "metadata": {
    "scrolled": true
   },
   "outputs": [
    {
     "data": {
      "text/plain": [
       "0.34074074074074073"
      ]
     },
     "execution_count": 37,
     "metadata": {},
     "output_type": "execute_result"
    }
   ],
   "source": [
    "c1"
   ]
  },
  {
   "cell_type": "markdown",
   "id": "attempted-yukon",
   "metadata": {},
   "source": [
    "32% of Devs who worked 'About half the time' are successful."
   ]
  },
  {
   "cell_type": "code",
   "execution_count": 38,
   "id": "square-surfing",
   "metadata": {},
   "outputs": [
    {
     "data": {
      "text/plain": [
       "0.37781954887218044"
      ]
     },
     "execution_count": 38,
     "metadata": {},
     "output_type": "execute_result"
    }
   ],
   "source": [
    "d1"
   ]
  },
  {
   "cell_type": "markdown",
   "id": "worse-belief",
   "metadata": {},
   "source": [
    "35% of Devs who worked 'Less than half the time, but at least one day each week' are successful"
   ]
  },
  {
   "cell_type": "code",
   "execution_count": 39,
   "id": "artistic-combat",
   "metadata": {
    "scrolled": true
   },
   "outputs": [
    {
     "data": {
      "text/plain": [
       "0.34209919261822375"
      ]
     },
     "execution_count": 39,
     "metadata": {},
     "output_type": "execute_result"
    }
   ],
   "source": [
    "e1"
   ]
  },
  {
   "cell_type": "markdown",
   "id": "expired-carolina",
   "metadata": {},
   "source": [
    "33% of Devs who worked 'A few days each month'remotely are successful"
   ]
  },
  {
   "cell_type": "code",
   "execution_count": 40,
   "id": "recent-track",
   "metadata": {},
   "outputs": [
    {
     "data": {
      "text/plain": [
       "0.2911392405063291"
      ]
     },
     "execution_count": 40,
     "metadata": {},
     "output_type": "execute_result"
    }
   ],
   "source": [
    "f1"
   ]
  },
  {
   "cell_type": "markdown",
   "id": "apart-shopping",
   "metadata": {},
   "source": [
    "28% of Devs who described working remotely 'It's complicated' are successful"
   ]
  },
  {
   "cell_type": "code",
   "execution_count": 41,
   "id": "exclusive-mechanics",
   "metadata": {},
   "outputs": [
    {
     "data": {
      "text/plain": [
       "0.2033898305084746"
      ]
     },
     "execution_count": 41,
     "metadata": {},
     "output_type": "execute_result"
    }
   ],
   "source": [
    "g1"
   ]
  },
  {
   "cell_type": "markdown",
   "id": "nuclear-bracket",
   "metadata": {},
   "source": [
    "19% of Devs who 'Never'  worked remotely are successful "
   ]
  },
  {
   "cell_type": "code",
   "execution_count": 42,
   "id": "differential-times",
   "metadata": {},
   "outputs": [
    {
     "data": {
      "image/png": "[encoded data removed]",
      "text/plain": [
       "<Figure size 432x288 with 1 Axes>"
      ]
     },
     "metadata": {},
     "output_type": "display_data"
    }
   ],
   "source": [
    "fig = plt.figure()\n",
    "ax = fig.add_axes([0,0,1,1])\n",
    "ax.axis('equal')\n",
    "HomeRemote = ['All or almost all the time (I\\'m full-time remote)','More than half, but not all, the time','About half the time', ' Less than half the time, but at least one day each week', 'A few days each month', 'It\\'s complicated','Never']\n",
    "Developers = [a1,b1,c1,d1,e1,f1,g1]\n",
    "ax.pie(Developers, labels = HomeRemote, autopct='%1.2f%%')\n",
    "plt.show()"
   ]
  },
  {
   "cell_type": "markdown",
   "id": "empirical-blame",
   "metadata": {},
   "source": [
    "# 4)PERCENTAGE OF SUCCESSFUL FEMALE SOFTWARE DEVELOPER USING CAREERSATISFACTION AND SALARY AS METRICS"
   ]
  },
  {
   "cell_type": "code",
   "execution_count": 43,
   "id": "secret-conference",
   "metadata": {},
   "outputs": [],
   "source": [
    "#same thing here, since the original list is not easily indexable, no need for a new list\n",
    "#fem =['Respondent','CareerSatisfaction','Gender','Salary']\n",
    "#df_fem = df[fem]\n",
    "\n",
    "#df_fem.head()\n"
   ]
  },
  {
   "cell_type": "code",
   "execution_count": 44,
   "id": "above-congress",
   "metadata": {},
   "outputs": [],
   "source": [
    "#df_fem2 = df_fem.dropna(how = 'any')\n",
    "#df_fem2.head()"
   ]
  },
  {
   "cell_type": "code",
   "execution_count": 45,
   "id": "smoking-ancient",
   "metadata": {},
   "outputs": [],
   "source": [
    "gender=df_eq('Gender','Female')\n",
    "CS=(df_cols['CareerSatisfaction'] >= 6.0)\n",
    "Salary = (df_cols['Salary'] >= 100000) #here u include 100000 dollars as succesful, a_HR says otherwise\n",
    "dev_fem=df_cols[gender & CS & Salary]#female devs that have high career satisfaction\n",
    "\n",
    "#dev_fem no need to sh0w it"
   ]
  },
  {
   "cell_type": "code",
   "execution_count": 46,
   "id": "interracial-productivity",
   "metadata": {},
   "outputs": [
    {
     "data": {
      "text/plain": [
       "0.002393368617683686"
      ]
     },
     "execution_count": 46,
     "metadata": {},
     "output_type": "execute_result"
    }
   ],
   "source": [
    "dev_fem.shape[0]/df.shape[0]"
   ]
  },
  {
   "cell_type": "markdown",
   "id": "impaired-distribution",
   "metadata": {},
   "source": [
    "# ONLY 0.2% OF THE SOFTWARE DEVELOPERS THAT TOOK THE SURVEY ARE 'SUCCESSFUL' FEMALES"
   ]
  },
  {
   "cell_type": "code",
   "execution_count": 47,
   "id": "gentle-gentleman",
   "metadata": {},
   "outputs": [],
   "source": [
    "gender1=df_eq('Gender', 'Male')\n",
    "#CS=(df_col['CareerSatisfaction'] >= 6.0) \n",
    "#Salary = (df_fem2['Salary'] >= 100000)\n",
    "dev_men=df_cols[gender1 & CS & Salary]#male devs that have high career satisfaction"
   ]
  },
  {
   "cell_type": "code",
   "execution_count": 48,
   "id": "beneficial-nudist",
   "metadata": {},
   "outputs": [
    {
     "data": {
      "text/plain": [
       "0.031230541718555417"
      ]
     },
     "execution_count": 48,
     "metadata": {},
     "output_type": "execute_result"
    }
   ],
   "source": [
    "dev_men.shape[0] / df.shape[0]"
   ]
  },
  {
   "cell_type": "markdown",
   "id": "resistant-colon",
   "metadata": {},
   "source": [
    "# 3% OF THE SOFTWARE DEVELOPERS THAT TOOK THE SURVEY ARE 'SUCCESSFUL' MEN "
   ]
  },
  {
   "cell_type": "markdown",
   "id": "centered-dress",
   "metadata": {},
   "source": [
    "# CONCLUSION\n",
    "Through this project , insights have been given that dislodges popular beliefs on certain decisions a developer should make in their journey to becoming successful in their career.\n",
    "We can conclude conveniently that a university degree isn’t necessary to being successful as a software developer, and also that working remotely seems to work best for developers ."
   ]
  }
 ],
 "metadata": {
  "kernelspec": {
   "display_name": "Python 3",
   "language": "python",
   "name": "python3"
  },
  "language_info": {
   "codemirror_mode": {
    "name": "ipython",
    "version": 3
   },
   "file_extension": ".py",
   "mimetype": "text/x-python",
   "name": "python",
   "nbconvert_exporter": "python",
   "pygments_lexer": "ipython3",
   "version": "3.9.1"
  }
 },
 "nbformat": 4,
 "nbformat_minor": 5
}
