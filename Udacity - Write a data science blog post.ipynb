{
 "cells": [
  {
   "cell_type": "code",
   "execution_count": 10,
   "id": "requested-simon",
   "metadata": {},
   "outputs": [
    {
     "data": {
      "text/html": [
       "<div>\n",
       "<style scoped>\n",
       "    .dataframe tbody tr th:only-of-type {\n",
       "        vertical-align: middle;\n",
       "    }\n",
       "\n",
       "    .dataframe tbody tr th {\n",
       "        vertical-align: top;\n",
       "    }\n",
       "\n",
       "    .dataframe thead th {\n",
       "        text-align: right;\n",
       "    }\n",
       "</style>\n",
       "<table border=\"1\" class=\"dataframe\">\n",
       "  <thead>\n",
       "    <tr style=\"text-align: right;\">\n",
       "      <th></th>\n",
       "      <th>Respondent</th>\n",
       "      <th>Professional</th>\n",
       "      <th>ProgramHobby</th>\n",
       "      <th>Country</th>\n",
       "      <th>University</th>\n",
       "      <th>EmploymentStatus</th>\n",
       "      <th>FormalEducation</th>\n",
       "      <th>MajorUndergrad</th>\n",
       "      <th>HomeRemote</th>\n",
       "      <th>CompanySize</th>\n",
       "      <th>...</th>\n",
       "      <th>StackOverflowMakeMoney</th>\n",
       "      <th>Gender</th>\n",
       "      <th>HighestEducationParents</th>\n",
       "      <th>Race</th>\n",
       "      <th>SurveyLong</th>\n",
       "      <th>QuestionsInteresting</th>\n",
       "      <th>QuestionsConfusing</th>\n",
       "      <th>InterestedAnswers</th>\n",
       "      <th>Salary</th>\n",
       "      <th>ExpectedSalary</th>\n",
       "    </tr>\n",
       "  </thead>\n",
       "  <tbody>\n",
       "    <tr>\n",
       "      <th>0</th>\n",
       "      <td>1</td>\n",
       "      <td>Student</td>\n",
       "      <td>Yes, both</td>\n",
       "      <td>United States</td>\n",
       "      <td>No</td>\n",
       "      <td>Not employed, and not looking for work</td>\n",
       "      <td>Secondary school</td>\n",
       "      <td>NaN</td>\n",
       "      <td>NaN</td>\n",
       "      <td>NaN</td>\n",
       "      <td>...</td>\n",
       "      <td>Strongly disagree</td>\n",
       "      <td>Male</td>\n",
       "      <td>High school</td>\n",
       "      <td>White or of European descent</td>\n",
       "      <td>Strongly disagree</td>\n",
       "      <td>Strongly agree</td>\n",
       "      <td>Disagree</td>\n",
       "      <td>Strongly agree</td>\n",
       "      <td>NaN</td>\n",
       "      <td>NaN</td>\n",
       "    </tr>\n",
       "    <tr>\n",
       "      <th>1</th>\n",
       "      <td>2</td>\n",
       "      <td>Student</td>\n",
       "      <td>Yes, both</td>\n",
       "      <td>United Kingdom</td>\n",
       "      <td>Yes, full-time</td>\n",
       "      <td>Employed part-time</td>\n",
       "      <td>Some college/university study without earning ...</td>\n",
       "      <td>Computer science or software engineering</td>\n",
       "      <td>More than half, but not all, the time</td>\n",
       "      <td>20 to 99 employees</td>\n",
       "      <td>...</td>\n",
       "      <td>Strongly disagree</td>\n",
       "      <td>Male</td>\n",
       "      <td>A master's degree</td>\n",
       "      <td>White or of European descent</td>\n",
       "      <td>Somewhat agree</td>\n",
       "      <td>Somewhat agree</td>\n",
       "      <td>Disagree</td>\n",
       "      <td>Strongly agree</td>\n",
       "      <td>NaN</td>\n",
       "      <td>37500.0</td>\n",
       "    </tr>\n",
       "    <tr>\n",
       "      <th>2</th>\n",
       "      <td>3</td>\n",
       "      <td>Professional developer</td>\n",
       "      <td>Yes, both</td>\n",
       "      <td>United Kingdom</td>\n",
       "      <td>No</td>\n",
       "      <td>Employed full-time</td>\n",
       "      <td>Bachelor's degree</td>\n",
       "      <td>Computer science or software engineering</td>\n",
       "      <td>Less than half the time, but at least one day ...</td>\n",
       "      <td>10,000 or more employees</td>\n",
       "      <td>...</td>\n",
       "      <td>Disagree</td>\n",
       "      <td>Male</td>\n",
       "      <td>A professional degree</td>\n",
       "      <td>White or of European descent</td>\n",
       "      <td>Somewhat agree</td>\n",
       "      <td>Agree</td>\n",
       "      <td>Disagree</td>\n",
       "      <td>Agree</td>\n",
       "      <td>113750.0</td>\n",
       "      <td>NaN</td>\n",
       "    </tr>\n",
       "    <tr>\n",
       "      <th>3</th>\n",
       "      <td>4</td>\n",
       "      <td>Professional non-developer who sometimes write...</td>\n",
       "      <td>Yes, both</td>\n",
       "      <td>United States</td>\n",
       "      <td>No</td>\n",
       "      <td>Employed full-time</td>\n",
       "      <td>Doctoral degree</td>\n",
       "      <td>A non-computer-focused engineering discipline</td>\n",
       "      <td>Less than half the time, but at least one day ...</td>\n",
       "      <td>10,000 or more employees</td>\n",
       "      <td>...</td>\n",
       "      <td>Disagree</td>\n",
       "      <td>Male</td>\n",
       "      <td>A doctoral degree</td>\n",
       "      <td>White or of European descent</td>\n",
       "      <td>Agree</td>\n",
       "      <td>Agree</td>\n",
       "      <td>Somewhat agree</td>\n",
       "      <td>Strongly agree</td>\n",
       "      <td>NaN</td>\n",
       "      <td>NaN</td>\n",
       "    </tr>\n",
       "    <tr>\n",
       "      <th>4</th>\n",
       "      <td>5</td>\n",
       "      <td>Professional developer</td>\n",
       "      <td>Yes, I program as a hobby</td>\n",
       "      <td>Switzerland</td>\n",
       "      <td>No</td>\n",
       "      <td>Employed full-time</td>\n",
       "      <td>Master's degree</td>\n",
       "      <td>Computer science or software engineering</td>\n",
       "      <td>Never</td>\n",
       "      <td>10 to 19 employees</td>\n",
       "      <td>...</td>\n",
       "      <td>NaN</td>\n",
       "      <td>NaN</td>\n",
       "      <td>NaN</td>\n",
       "      <td>NaN</td>\n",
       "      <td>NaN</td>\n",
       "      <td>NaN</td>\n",
       "      <td>NaN</td>\n",
       "      <td>NaN</td>\n",
       "      <td>NaN</td>\n",
       "      <td>NaN</td>\n",
       "    </tr>\n",
       "  </tbody>\n",
       "</table>\n",
       "<p>5 rows × 154 columns</p>\n",
       "</div>"
      ],
      "text/plain": [
       "   Respondent                                       Professional  \\\n",
       "0           1                                            Student   \n",
       "1           2                                            Student   \n",
       "2           3                             Professional developer   \n",
       "3           4  Professional non-developer who sometimes write...   \n",
       "4           5                             Professional developer   \n",
       "\n",
       "                ProgramHobby         Country      University  \\\n",
       "0                  Yes, both   United States              No   \n",
       "1                  Yes, both  United Kingdom  Yes, full-time   \n",
       "2                  Yes, both  United Kingdom              No   \n",
       "3                  Yes, both   United States              No   \n",
       "4  Yes, I program as a hobby     Switzerland              No   \n",
       "\n",
       "                         EmploymentStatus  \\\n",
       "0  Not employed, and not looking for work   \n",
       "1                      Employed part-time   \n",
       "2                      Employed full-time   \n",
       "3                      Employed full-time   \n",
       "4                      Employed full-time   \n",
       "\n",
       "                                     FormalEducation  \\\n",
       "0                                   Secondary school   \n",
       "1  Some college/university study without earning ...   \n",
       "2                                  Bachelor's degree   \n",
       "3                                    Doctoral degree   \n",
       "4                                    Master's degree   \n",
       "\n",
       "                                  MajorUndergrad  \\\n",
       "0                                            NaN   \n",
       "1       Computer science or software engineering   \n",
       "2       Computer science or software engineering   \n",
       "3  A non-computer-focused engineering discipline   \n",
       "4       Computer science or software engineering   \n",
       "\n",
       "                                          HomeRemote  \\\n",
       "0                                                NaN   \n",
       "1              More than half, but not all, the time   \n",
       "2  Less than half the time, but at least one day ...   \n",
       "3  Less than half the time, but at least one day ...   \n",
       "4                                              Never   \n",
       "\n",
       "                CompanySize  ... StackOverflowMakeMoney Gender  \\\n",
       "0                       NaN  ...      Strongly disagree   Male   \n",
       "1        20 to 99 employees  ...      Strongly disagree   Male   \n",
       "2  10,000 or more employees  ...               Disagree   Male   \n",
       "3  10,000 or more employees  ...               Disagree   Male   \n",
       "4        10 to 19 employees  ...                    NaN    NaN   \n",
       "\n",
       "  HighestEducationParents                          Race         SurveyLong  \\\n",
       "0             High school  White or of European descent  Strongly disagree   \n",
       "1       A master's degree  White or of European descent     Somewhat agree   \n",
       "2   A professional degree  White or of European descent     Somewhat agree   \n",
       "3       A doctoral degree  White or of European descent              Agree   \n",
       "4                     NaN                           NaN                NaN   \n",
       "\n",
       "  QuestionsInteresting QuestionsConfusing InterestedAnswers    Salary  \\\n",
       "0       Strongly agree           Disagree    Strongly agree       NaN   \n",
       "1       Somewhat agree           Disagree    Strongly agree       NaN   \n",
       "2                Agree           Disagree             Agree  113750.0   \n",
       "3                Agree     Somewhat agree    Strongly agree       NaN   \n",
       "4                  NaN                NaN               NaN       NaN   \n",
       "\n",
       "   ExpectedSalary  \n",
       "0             NaN  \n",
       "1         37500.0  \n",
       "2             NaN  \n",
       "3             NaN  \n",
       "4             NaN  \n",
       "\n",
       "[5 rows x 154 columns]"
      ]
     },
     "execution_count": 10,
     "metadata": {},
     "output_type": "execute_result"
    }
   ],
   "source": [
    "#importing libraries\n",
    "import pandas as pd\n",
    "import numpy as np\n",
    "import matplotlib.pyplot as plt\n",
    "\n",
    "#read in data \n",
    "%matplotlib inline\n",
    "df = pd.read_csv('C:/Users/GAUGE COMPUTER/Downloads/archive/survey_results_public.csv')\n",
    "\n",
    "df.head()\n"
   ]
  },
  {
   "cell_type": "code",
   "execution_count": 11,
   "id": "apart-mouse",
   "metadata": {},
   "outputs": [
    {
     "data": {
      "text/plain": [
       "RangeIndex(start=0, stop=51392, step=1)"
      ]
     },
     "execution_count": 11,
     "metadata": {},
     "output_type": "execute_result"
    }
   ],
   "source": [
    "df.index"
   ]
  },
  {
   "cell_type": "code",
   "execution_count": 12,
   "id": "unsigned-ratio",
   "metadata": {
    "scrolled": true
   },
   "outputs": [
    {
     "data": {
      "text/plain": [
       "['Respondent',\n",
       " 'Professional',\n",
       " 'ProgramHobby',\n",
       " 'Country',\n",
       " 'University',\n",
       " 'EmploymentStatus',\n",
       " 'FormalEducation',\n",
       " 'MajorUndergrad',\n",
       " 'HomeRemote',\n",
       " 'CompanySize',\n",
       " 'CompanyType',\n",
       " 'YearsProgram',\n",
       " 'YearsCodedJob',\n",
       " 'YearsCodedJobPast',\n",
       " 'DeveloperType',\n",
       " 'WebDeveloperType',\n",
       " 'MobileDeveloperType',\n",
       " 'NonDeveloperType',\n",
       " 'CareerSatisfaction',\n",
       " 'JobSatisfaction',\n",
       " 'ExCoderReturn',\n",
       " 'ExCoderNotForMe',\n",
       " 'ExCoderBalance',\n",
       " 'ExCoder10Years',\n",
       " 'ExCoderBelonged',\n",
       " 'ExCoderSkills',\n",
       " 'ExCoderWillNotCode',\n",
       " 'ExCoderActive',\n",
       " 'PronounceGIF',\n",
       " 'ProblemSolving',\n",
       " 'BuildingThings',\n",
       " 'LearningNewTech',\n",
       " 'BoringDetails',\n",
       " 'JobSecurity',\n",
       " 'DiversityImportant',\n",
       " 'AnnoyingUI',\n",
       " 'FriendsDevelopers',\n",
       " 'RightWrongWay',\n",
       " 'UnderstandComputers',\n",
       " 'SeriousWork',\n",
       " 'InvestTimeTools',\n",
       " 'WorkPayCare',\n",
       " 'KinshipDevelopers',\n",
       " 'ChallengeMyself',\n",
       " 'CompetePeers',\n",
       " 'ChangeWorld',\n",
       " 'JobSeekingStatus',\n",
       " 'HoursPerWeek',\n",
       " 'LastNewJob',\n",
       " 'AssessJobIndustry',\n",
       " 'AssessJobRole',\n",
       " 'AssessJobExp',\n",
       " 'AssessJobDept',\n",
       " 'AssessJobTech',\n",
       " 'AssessJobProjects',\n",
       " 'AssessJobCompensation',\n",
       " 'AssessJobOffice',\n",
       " 'AssessJobCommute',\n",
       " 'AssessJobRemote',\n",
       " 'AssessJobLeaders',\n",
       " 'AssessJobProfDevel',\n",
       " 'AssessJobDiversity',\n",
       " 'AssessJobProduct',\n",
       " 'AssessJobFinances',\n",
       " 'ImportantBenefits',\n",
       " 'ClickyKeys',\n",
       " 'JobProfile',\n",
       " 'ResumePrompted',\n",
       " 'LearnedHiring',\n",
       " 'ImportantHiringAlgorithms',\n",
       " 'ImportantHiringTechExp',\n",
       " 'ImportantHiringCommunication',\n",
       " 'ImportantHiringOpenSource',\n",
       " 'ImportantHiringPMExp',\n",
       " 'ImportantHiringCompanies',\n",
       " 'ImportantHiringTitles',\n",
       " 'ImportantHiringEducation',\n",
       " 'ImportantHiringRep',\n",
       " 'ImportantHiringGettingThingsDone',\n",
       " 'Currency',\n",
       " 'Overpaid',\n",
       " 'TabsSpaces',\n",
       " 'EducationImportant',\n",
       " 'EducationTypes',\n",
       " 'SelfTaughtTypes',\n",
       " 'TimeAfterBootcamp',\n",
       " 'CousinEducation',\n",
       " 'WorkStart',\n",
       " 'HaveWorkedLanguage',\n",
       " 'WantWorkLanguage',\n",
       " 'HaveWorkedFramework',\n",
       " 'WantWorkFramework',\n",
       " 'HaveWorkedDatabase',\n",
       " 'WantWorkDatabase',\n",
       " 'HaveWorkedPlatform',\n",
       " 'WantWorkPlatform',\n",
       " 'IDE',\n",
       " 'AuditoryEnvironment',\n",
       " 'Methodology',\n",
       " 'VersionControl',\n",
       " 'CheckInCode',\n",
       " 'ShipIt',\n",
       " 'OtherPeoplesCode',\n",
       " 'ProjectManagement',\n",
       " 'EnjoyDebugging',\n",
       " 'InTheZone',\n",
       " 'DifficultCommunication',\n",
       " 'CollaborateRemote',\n",
       " 'MetricAssess',\n",
       " 'EquipmentSatisfiedMonitors',\n",
       " 'EquipmentSatisfiedCPU',\n",
       " 'EquipmentSatisfiedRAM',\n",
       " 'EquipmentSatisfiedStorage',\n",
       " 'EquipmentSatisfiedRW',\n",
       " 'InfluenceInternet',\n",
       " 'InfluenceWorkstation',\n",
       " 'InfluenceHardware',\n",
       " 'InfluenceServers',\n",
       " 'InfluenceTechStack',\n",
       " 'InfluenceDeptTech',\n",
       " 'InfluenceVizTools',\n",
       " 'InfluenceDatabase',\n",
       " 'InfluenceCloud',\n",
       " 'InfluenceConsultants',\n",
       " 'InfluenceRecruitment',\n",
       " 'InfluenceCommunication',\n",
       " 'StackOverflowDescribes',\n",
       " 'StackOverflowSatisfaction',\n",
       " 'StackOverflowDevices',\n",
       " 'StackOverflowFoundAnswer',\n",
       " 'StackOverflowCopiedCode',\n",
       " 'StackOverflowJobListing',\n",
       " 'StackOverflowCompanyPage',\n",
       " 'StackOverflowJobSearch',\n",
       " 'StackOverflowNewQuestion',\n",
       " 'StackOverflowAnswer',\n",
       " 'StackOverflowMetaChat',\n",
       " 'StackOverflowAdsRelevant',\n",
       " 'StackOverflowAdsDistracting',\n",
       " 'StackOverflowModeration',\n",
       " 'StackOverflowCommunity',\n",
       " 'StackOverflowHelpful',\n",
       " 'StackOverflowBetter',\n",
       " 'StackOverflowWhatDo',\n",
       " 'StackOverflowMakeMoney',\n",
       " 'Gender',\n",
       " 'HighestEducationParents',\n",
       " 'Race',\n",
       " 'SurveyLong',\n",
       " 'QuestionsInteresting',\n",
       " 'QuestionsConfusing',\n",
       " 'InterestedAnswers',\n",
       " 'Salary',\n",
       " 'ExpectedSalary']"
      ]
     },
     "metadata": {},
     "output_type": "display_data"
    }
   ],
   "source": [
    "display(df.columns.tolist())"
   ]
  },
  {
   "cell_type": "markdown",
   "id": "manufactured-district",
   "metadata": {},
   "source": [
    "# 1) DOES SALARY HAVE AN EFFECT ON CAREER SATISFACTION?\n",
    "\n",
    "We need to know the relationship between career satisfaction , in order to determine if they would be good metrics for success for the stackflow survey's software developers"
   ]
  },
  {
   "cell_type": "code",
   "execution_count": 13,
   "id": "tough-rough",
   "metadata": {
    "scrolled": true
   },
   "outputs": [
    {
     "data": {
      "text/html": [
       "<div>\n",
       "<style scoped>\n",
       "    .dataframe tbody tr th:only-of-type {\n",
       "        vertical-align: middle;\n",
       "    }\n",
       "\n",
       "    .dataframe tbody tr th {\n",
       "        vertical-align: top;\n",
       "    }\n",
       "\n",
       "    .dataframe thead th {\n",
       "        text-align: right;\n",
       "    }\n",
       "</style>\n",
       "<table border=\"1\" class=\"dataframe\">\n",
       "  <thead>\n",
       "    <tr style=\"text-align: right;\">\n",
       "      <th></th>\n",
       "      <th>Respondent</th>\n",
       "      <th>University</th>\n",
       "      <th>EmploymentStatus</th>\n",
       "      <th>FormalEducation</th>\n",
       "      <th>MajorUndergrad</th>\n",
       "      <th>CareerSatisfaction</th>\n",
       "      <th>JobSatisfaction</th>\n",
       "      <th>Salary</th>\n",
       "    </tr>\n",
       "  </thead>\n",
       "  <tbody>\n",
       "    <tr>\n",
       "      <th>0</th>\n",
       "      <td>1</td>\n",
       "      <td>No</td>\n",
       "      <td>Not employed, and not looking for work</td>\n",
       "      <td>Secondary school</td>\n",
       "      <td>NaN</td>\n",
       "      <td>NaN</td>\n",
       "      <td>NaN</td>\n",
       "      <td>NaN</td>\n",
       "    </tr>\n",
       "    <tr>\n",
       "      <th>1</th>\n",
       "      <td>2</td>\n",
       "      <td>Yes, full-time</td>\n",
       "      <td>Employed part-time</td>\n",
       "      <td>Some college/university study without earning ...</td>\n",
       "      <td>Computer science or software engineering</td>\n",
       "      <td>NaN</td>\n",
       "      <td>NaN</td>\n",
       "      <td>NaN</td>\n",
       "    </tr>\n",
       "    <tr>\n",
       "      <th>2</th>\n",
       "      <td>3</td>\n",
       "      <td>No</td>\n",
       "      <td>Employed full-time</td>\n",
       "      <td>Bachelor's degree</td>\n",
       "      <td>Computer science or software engineering</td>\n",
       "      <td>8.0</td>\n",
       "      <td>9.0</td>\n",
       "      <td>113750.0</td>\n",
       "    </tr>\n",
       "    <tr>\n",
       "      <th>3</th>\n",
       "      <td>4</td>\n",
       "      <td>No</td>\n",
       "      <td>Employed full-time</td>\n",
       "      <td>Doctoral degree</td>\n",
       "      <td>A non-computer-focused engineering discipline</td>\n",
       "      <td>6.0</td>\n",
       "      <td>3.0</td>\n",
       "      <td>NaN</td>\n",
       "    </tr>\n",
       "    <tr>\n",
       "      <th>4</th>\n",
       "      <td>5</td>\n",
       "      <td>No</td>\n",
       "      <td>Employed full-time</td>\n",
       "      <td>Master's degree</td>\n",
       "      <td>Computer science or software engineering</td>\n",
       "      <td>6.0</td>\n",
       "      <td>8.0</td>\n",
       "      <td>NaN</td>\n",
       "    </tr>\n",
       "  </tbody>\n",
       "</table>\n",
       "</div>"
      ],
      "text/plain": [
       "   Respondent      University                        EmploymentStatus  \\\n",
       "0           1              No  Not employed, and not looking for work   \n",
       "1           2  Yes, full-time                      Employed part-time   \n",
       "2           3              No                      Employed full-time   \n",
       "3           4              No                      Employed full-time   \n",
       "4           5              No                      Employed full-time   \n",
       "\n",
       "                                     FormalEducation  \\\n",
       "0                                   Secondary school   \n",
       "1  Some college/university study without earning ...   \n",
       "2                                  Bachelor's degree   \n",
       "3                                    Doctoral degree   \n",
       "4                                    Master's degree   \n",
       "\n",
       "                                  MajorUndergrad  CareerSatisfaction  \\\n",
       "0                                            NaN                 NaN   \n",
       "1       Computer science or software engineering                 NaN   \n",
       "2       Computer science or software engineering                 8.0   \n",
       "3  A non-computer-focused engineering discipline                 6.0   \n",
       "4       Computer science or software engineering                 6.0   \n",
       "\n",
       "   JobSatisfaction    Salary  \n",
       "0              NaN       NaN  \n",
       "1              NaN       NaN  \n",
       "2              9.0  113750.0  \n",
       "3              3.0       NaN  \n",
       "4              8.0       NaN  "
      ]
     },
     "execution_count": 13,
     "metadata": {},
     "output_type": "execute_result"
    }
   ],
   "source": [
    "#Data Preparation, Selecting relevant columns\n",
    "cols = ['Respondent', 'University','EmploymentStatus','FormalEducation','MajorUndergrad','CareerSatisfaction','JobSatisfaction','Salary']\n",
    "df_cols = df[cols]\n",
    "df_cols.head()"
   ]
  },
  {
   "cell_type": "code",
   "execution_count": 14,
   "id": "aggressive-niagara",
   "metadata": {
    "scrolled": true
   },
   "outputs": [],
   "source": [
    "# Cleaning out the data , dropping rows with empty data\n",
    "df_selectedcols = df_cols.dropna(how = 'any')"
   ]
  },
  {
   "cell_type": "code",
   "execution_count": 15,
   "id": "initial-reflection",
   "metadata": {},
   "outputs": [
    {
     "data": {
      "text/html": [
       "<div>\n",
       "<style scoped>\n",
       "    .dataframe tbody tr th:only-of-type {\n",
       "        vertical-align: middle;\n",
       "    }\n",
       "\n",
       "    .dataframe tbody tr th {\n",
       "        vertical-align: top;\n",
       "    }\n",
       "\n",
       "    .dataframe thead th {\n",
       "        text-align: right;\n",
       "    }\n",
       "</style>\n",
       "<table border=\"1\" class=\"dataframe\">\n",
       "  <thead>\n",
       "    <tr style=\"text-align: right;\">\n",
       "      <th></th>\n",
       "      <th>Respondent</th>\n",
       "      <th>University</th>\n",
       "      <th>EmploymentStatus</th>\n",
       "      <th>FormalEducation</th>\n",
       "      <th>MajorUndergrad</th>\n",
       "      <th>CareerSatisfaction</th>\n",
       "      <th>JobSatisfaction</th>\n",
       "      <th>Salary</th>\n",
       "    </tr>\n",
       "  </thead>\n",
       "  <tbody>\n",
       "    <tr>\n",
       "      <th>2</th>\n",
       "      <td>3</td>\n",
       "      <td>No</td>\n",
       "      <td>Employed full-time</td>\n",
       "      <td>Bachelor's degree</td>\n",
       "      <td>Computer science or software engineering</td>\n",
       "      <td>8.0</td>\n",
       "      <td>9.0</td>\n",
       "      <td>113750.0</td>\n",
       "    </tr>\n",
       "    <tr>\n",
       "      <th>14</th>\n",
       "      <td>15</td>\n",
       "      <td>No</td>\n",
       "      <td>Employed full-time</td>\n",
       "      <td>Professional degree</td>\n",
       "      <td>Computer engineering or electrical/electronics...</td>\n",
       "      <td>8.0</td>\n",
       "      <td>8.0</td>\n",
       "      <td>100000.0</td>\n",
       "    </tr>\n",
       "    <tr>\n",
       "      <th>17</th>\n",
       "      <td>18</td>\n",
       "      <td>Yes, part-time</td>\n",
       "      <td>Employed full-time</td>\n",
       "      <td>Bachelor's degree</td>\n",
       "      <td>Computer science or software engineering</td>\n",
       "      <td>9.0</td>\n",
       "      <td>8.0</td>\n",
       "      <td>130000.0</td>\n",
       "    </tr>\n",
       "    <tr>\n",
       "      <th>18</th>\n",
       "      <td>19</td>\n",
       "      <td>No</td>\n",
       "      <td>Employed full-time</td>\n",
       "      <td>Bachelor's degree</td>\n",
       "      <td>Computer science or software engineering</td>\n",
       "      <td>5.0</td>\n",
       "      <td>3.0</td>\n",
       "      <td>82500.0</td>\n",
       "    </tr>\n",
       "    <tr>\n",
       "      <th>22</th>\n",
       "      <td>23</td>\n",
       "      <td>No</td>\n",
       "      <td>Employed full-time</td>\n",
       "      <td>Bachelor's degree</td>\n",
       "      <td>Computer engineering or electrical/electronics...</td>\n",
       "      <td>8.0</td>\n",
       "      <td>9.0</td>\n",
       "      <td>100764.0</td>\n",
       "    </tr>\n",
       "  </tbody>\n",
       "</table>\n",
       "</div>"
      ],
      "text/plain": [
       "    Respondent      University    EmploymentStatus      FormalEducation  \\\n",
       "2            3              No  Employed full-time    Bachelor's degree   \n",
       "14          15              No  Employed full-time  Professional degree   \n",
       "17          18  Yes, part-time  Employed full-time    Bachelor's degree   \n",
       "18          19              No  Employed full-time    Bachelor's degree   \n",
       "22          23              No  Employed full-time    Bachelor's degree   \n",
       "\n",
       "                                       MajorUndergrad  CareerSatisfaction  \\\n",
       "2            Computer science or software engineering                 8.0   \n",
       "14  Computer engineering or electrical/electronics...                 8.0   \n",
       "17           Computer science or software engineering                 9.0   \n",
       "18           Computer science or software engineering                 5.0   \n",
       "22  Computer engineering or electrical/electronics...                 8.0   \n",
       "\n",
       "    JobSatisfaction    Salary  \n",
       "2               9.0  113750.0  \n",
       "14              8.0  100000.0  \n",
       "17              8.0  130000.0  \n",
       "18              3.0   82500.0  \n",
       "22              9.0  100764.0  "
      ]
     },
     "execution_count": 15,
     "metadata": {},
     "output_type": "execute_result"
    }
   ],
   "source": [
    "df_selectedcols.head()"
   ]
  },
  {
   "cell_type": "code",
   "execution_count": 16,
   "id": "statistical-atlanta",
   "metadata": {},
   "outputs": [
    {
     "data": {
      "text/html": [
       "<div>\n",
       "<style scoped>\n",
       "    .dataframe tbody tr th:only-of-type {\n",
       "        vertical-align: middle;\n",
       "    }\n",
       "\n",
       "    .dataframe tbody tr th {\n",
       "        vertical-align: top;\n",
       "    }\n",
       "\n",
       "    .dataframe thead th {\n",
       "        text-align: right;\n",
       "    }\n",
       "</style>\n",
       "<table border=\"1\" class=\"dataframe\">\n",
       "  <thead>\n",
       "    <tr style=\"text-align: right;\">\n",
       "      <th></th>\n",
       "      <th>CareerSatisfaction</th>\n",
       "      <th>Salary</th>\n",
       "    </tr>\n",
       "  </thead>\n",
       "  <tbody>\n",
       "    <tr>\n",
       "      <th>0</th>\n",
       "      <td>NaN</td>\n",
       "      <td>NaN</td>\n",
       "    </tr>\n",
       "    <tr>\n",
       "      <th>1</th>\n",
       "      <td>NaN</td>\n",
       "      <td>NaN</td>\n",
       "    </tr>\n",
       "    <tr>\n",
       "      <th>2</th>\n",
       "      <td>8.0</td>\n",
       "      <td>113750.0</td>\n",
       "    </tr>\n",
       "    <tr>\n",
       "      <th>3</th>\n",
       "      <td>6.0</td>\n",
       "      <td>NaN</td>\n",
       "    </tr>\n",
       "    <tr>\n",
       "      <th>4</th>\n",
       "      <td>6.0</td>\n",
       "      <td>NaN</td>\n",
       "    </tr>\n",
       "  </tbody>\n",
       "</table>\n",
       "</div>"
      ],
      "text/plain": [
       "   CareerSatisfaction    Salary\n",
       "0                 NaN       NaN\n",
       "1                 NaN       NaN\n",
       "2                 8.0  113750.0\n",
       "3                 6.0       NaN\n",
       "4                 6.0       NaN"
      ]
     },
     "execution_count": 16,
     "metadata": {},
     "output_type": "execute_result"
    }
   ],
   "source": [
    "df2= ['CareerSatisfaction','Salary']\n",
    "df2_cols=df[df2]\n",
    "df2_cols.head()"
   ]
  },
  {
   "cell_type": "code",
   "execution_count": 17,
   "id": "adaptive-bubble",
   "metadata": {},
   "outputs": [
    {
     "data": {
      "image/png": "[encoded data removed]",
      "text/plain": [
       "<Figure size 432x288 with 1 Axes>"
      ]
     },
     "metadata": {
      "needs_background": "light"
     },
     "output_type": "display_data"
    }
   ],
   "source": [
    "# Checking the relationship of CareerSatisfaction and Salary\n",
    "df2_cols.plot(x='CareerSatisfaction', y='Salary', style='o')\n",
    "\n",
    "d = {'CareerSatisfaction' : np.random.rand(10),\n",
    "     'Salary' : np.random.rand(10)}\n",
    "\n",
    "df2 = pd.DataFrame(d)\n"
   ]
  },
  {
   "cell_type": "markdown",
   "id": "outdoor-track",
   "metadata": {},
   "source": [
    "# As shown in the figure/plot above, Salary has an impact on the Career Satisfaction of software developers"
   ]
  },
  {
   "cell_type": "markdown",
   "id": "alert-greeting",
   "metadata": {},
   "source": [
    "# 2. DO YOU NEED TO ATTEND A UNIVERSITY BEFORE BECOMING A SUCCESSFUL SOFTWARE DEVELOPER?¶\n"
   ]
  },
  {
   "cell_type": "code",
   "execution_count": 18,
   "id": "clear-forest",
   "metadata": {},
   "outputs": [
    {
     "data": {
      "text/plain": [
       "No                     37543\n",
       "Yes, full-time          9369\n",
       "Yes, part-time          3352\n",
       "I prefer not to say     1128\n",
       "Name: University, dtype: int64"
      ]
     },
     "execution_count": 18,
     "metadata": {},
     "output_type": "execute_result"
    }
   ],
   "source": [
    "df_cols['University'].value_counts()"
   ]
  },
  {
   "cell_type": "code",
   "execution_count": 19,
   "id": "advance-texture",
   "metadata": {},
   "outputs": [
    {
     "data": {
      "text/plain": [
       "<AxesSubplot:>"
      ]
     },
     "execution_count": 19,
     "metadata": {},
     "output_type": "execute_result"
    },
    {
     "data": {
      "image/png": "[encoded data removed]",
      "text/plain": [
       "<Figure size 1080x504 with 1 Axes>"
      ]
     },
     "metadata": {
      "needs_background": "light"
     },
     "output_type": "display_data"
    }
   ],
   "source": [
    "df_cols['University'].value_counts().plot(kind=\"bar\", figsize=(15,7), color=\"#61d199\")"
   ]
  },
  {
   "cell_type": "markdown",
   "id": "french-photography",
   "metadata": {},
   "source": [
    "# OVER 37000 DEVS DID NOT ATTEND UNIVERSITY"
   ]
  },
  {
   "cell_type": "code",
   "execution_count": 20,
   "id": "strong-standard",
   "metadata": {
    "scrolled": true
   },
   "outputs": [
    {
     "data": {
      "text/plain": [
       "(36148, 8)"
      ]
     },
     "execution_count": 20,
     "metadata": {},
     "output_type": "execute_result"
    }
   ],
   "source": [
    "df_cols[(df_cols['EmploymentStatus'] == 'Employed full-time')].shape"
   ]
  },
  {
   "cell_type": "markdown",
   "id": "recovered-light",
   "metadata": {},
   "source": [
    "# Over 36000 Devs are Employed Fulltime"
   ]
  },
  {
   "cell_type": "code",
   "execution_count": 21,
   "id": "delayed-trail",
   "metadata": {},
   "outputs": [
    {
     "data": {
      "text/html": [
       "<div>\n",
       "<style scoped>\n",
       "    .dataframe tbody tr th:only-of-type {\n",
       "        vertical-align: middle;\n",
       "    }\n",
       "\n",
       "    .dataframe tbody tr th {\n",
       "        vertical-align: top;\n",
       "    }\n",
       "\n",
       "    .dataframe thead th {\n",
       "        text-align: right;\n",
       "    }\n",
       "</style>\n",
       "<table border=\"1\" class=\"dataframe\">\n",
       "  <thead>\n",
       "    <tr style=\"text-align: right;\">\n",
       "      <th></th>\n",
       "      <th>Respondent</th>\n",
       "      <th>University</th>\n",
       "      <th>EmploymentStatus</th>\n",
       "      <th>FormalEducation</th>\n",
       "      <th>MajorUndergrad</th>\n",
       "      <th>CareerSatisfaction</th>\n",
       "      <th>JobSatisfaction</th>\n",
       "      <th>Salary</th>\n",
       "    </tr>\n",
       "  </thead>\n",
       "  <tbody>\n",
       "    <tr>\n",
       "      <th>2</th>\n",
       "      <td>3</td>\n",
       "      <td>No</td>\n",
       "      <td>Employed full-time</td>\n",
       "      <td>Bachelor's degree</td>\n",
       "      <td>Computer science or software engineering</td>\n",
       "      <td>8.0</td>\n",
       "      <td>9.0</td>\n",
       "      <td>113750.0</td>\n",
       "    </tr>\n",
       "    <tr>\n",
       "      <th>3</th>\n",
       "      <td>4</td>\n",
       "      <td>No</td>\n",
       "      <td>Employed full-time</td>\n",
       "      <td>Doctoral degree</td>\n",
       "      <td>A non-computer-focused engineering discipline</td>\n",
       "      <td>6.0</td>\n",
       "      <td>3.0</td>\n",
       "      <td>NaN</td>\n",
       "    </tr>\n",
       "    <tr>\n",
       "      <th>4</th>\n",
       "      <td>5</td>\n",
       "      <td>No</td>\n",
       "      <td>Employed full-time</td>\n",
       "      <td>Master's degree</td>\n",
       "      <td>Computer science or software engineering</td>\n",
       "      <td>6.0</td>\n",
       "      <td>8.0</td>\n",
       "      <td>NaN</td>\n",
       "    </tr>\n",
       "    <tr>\n",
       "      <th>6</th>\n",
       "      <td>7</td>\n",
       "      <td>No</td>\n",
       "      <td>Employed full-time</td>\n",
       "      <td>Master's degree</td>\n",
       "      <td>A non-computer-focused engineering discipline</td>\n",
       "      <td>7.0</td>\n",
       "      <td>6.0</td>\n",
       "      <td>NaN</td>\n",
       "    </tr>\n",
       "    <tr>\n",
       "      <th>7</th>\n",
       "      <td>8</td>\n",
       "      <td>No</td>\n",
       "      <td>Employed full-time</td>\n",
       "      <td>Master's degree</td>\n",
       "      <td>Computer science or software engineering</td>\n",
       "      <td>7.0</td>\n",
       "      <td>7.0</td>\n",
       "      <td>NaN</td>\n",
       "    </tr>\n",
       "    <tr>\n",
       "      <th>...</th>\n",
       "      <td>...</td>\n",
       "      <td>...</td>\n",
       "      <td>...</td>\n",
       "      <td>...</td>\n",
       "      <td>...</td>\n",
       "      <td>...</td>\n",
       "      <td>...</td>\n",
       "      <td>...</td>\n",
       "    </tr>\n",
       "    <tr>\n",
       "      <th>51386</th>\n",
       "      <td>51387</td>\n",
       "      <td>No</td>\n",
       "      <td>Employed full-time</td>\n",
       "      <td>Some college/university study without earning ...</td>\n",
       "      <td>Something else</td>\n",
       "      <td>7.0</td>\n",
       "      <td>4.0</td>\n",
       "      <td>NaN</td>\n",
       "    </tr>\n",
       "    <tr>\n",
       "      <th>51387</th>\n",
       "      <td>51388</td>\n",
       "      <td>No</td>\n",
       "      <td>Employed full-time</td>\n",
       "      <td>Bachelor's degree</td>\n",
       "      <td>A social science</td>\n",
       "      <td>7.0</td>\n",
       "      <td>3.0</td>\n",
       "      <td>58000.0</td>\n",
       "    </tr>\n",
       "    <tr>\n",
       "      <th>51389</th>\n",
       "      <td>51390</td>\n",
       "      <td>No</td>\n",
       "      <td>Employed full-time</td>\n",
       "      <td>Some college/university study without earning ...</td>\n",
       "      <td>Information technology, networking, or system ...</td>\n",
       "      <td>10.0</td>\n",
       "      <td>10.0</td>\n",
       "      <td>NaN</td>\n",
       "    </tr>\n",
       "    <tr>\n",
       "      <th>51390</th>\n",
       "      <td>51391</td>\n",
       "      <td>No</td>\n",
       "      <td>Employed full-time</td>\n",
       "      <td>Bachelor's degree</td>\n",
       "      <td>Computer science or software engineering</td>\n",
       "      <td>6.0</td>\n",
       "      <td>7.0</td>\n",
       "      <td>40000.0</td>\n",
       "    </tr>\n",
       "    <tr>\n",
       "      <th>51391</th>\n",
       "      <td>51392</td>\n",
       "      <td>No</td>\n",
       "      <td>Employed full-time</td>\n",
       "      <td>Bachelor's degree</td>\n",
       "      <td>Computer science or software engineering</td>\n",
       "      <td>8.0</td>\n",
       "      <td>8.0</td>\n",
       "      <td>NaN</td>\n",
       "    </tr>\n",
       "  </tbody>\n",
       "</table>\n",
       "<p>29996 rows × 8 columns</p>\n",
       "</div>"
      ],
      "text/plain": [
       "       Respondent University    EmploymentStatus  \\\n",
       "2               3         No  Employed full-time   \n",
       "3               4         No  Employed full-time   \n",
       "4               5         No  Employed full-time   \n",
       "6               7         No  Employed full-time   \n",
       "7               8         No  Employed full-time   \n",
       "...           ...        ...                 ...   \n",
       "51386       51387         No  Employed full-time   \n",
       "51387       51388         No  Employed full-time   \n",
       "51389       51390         No  Employed full-time   \n",
       "51390       51391         No  Employed full-time   \n",
       "51391       51392         No  Employed full-time   \n",
       "\n",
       "                                         FormalEducation  \\\n",
       "2                                      Bachelor's degree   \n",
       "3                                        Doctoral degree   \n",
       "4                                        Master's degree   \n",
       "6                                        Master's degree   \n",
       "7                                        Master's degree   \n",
       "...                                                  ...   \n",
       "51386  Some college/university study without earning ...   \n",
       "51387                                  Bachelor's degree   \n",
       "51389  Some college/university study without earning ...   \n",
       "51390                                  Bachelor's degree   \n",
       "51391                                  Bachelor's degree   \n",
       "\n",
       "                                          MajorUndergrad  CareerSatisfaction  \\\n",
       "2               Computer science or software engineering                 8.0   \n",
       "3          A non-computer-focused engineering discipline                 6.0   \n",
       "4               Computer science or software engineering                 6.0   \n",
       "6          A non-computer-focused engineering discipline                 7.0   \n",
       "7               Computer science or software engineering                 7.0   \n",
       "...                                                  ...                 ...   \n",
       "51386                                     Something else                 7.0   \n",
       "51387                                   A social science                 7.0   \n",
       "51389  Information technology, networking, or system ...                10.0   \n",
       "51390           Computer science or software engineering                 6.0   \n",
       "51391           Computer science or software engineering                 8.0   \n",
       "\n",
       "       JobSatisfaction    Salary  \n",
       "2                  9.0  113750.0  \n",
       "3                  3.0       NaN  \n",
       "4                  8.0       NaN  \n",
       "6                  6.0       NaN  \n",
       "7                  7.0       NaN  \n",
       "...                ...       ...  \n",
       "51386              4.0       NaN  \n",
       "51387              3.0   58000.0  \n",
       "51389             10.0       NaN  \n",
       "51390              7.0   40000.0  \n",
       "51391              8.0       NaN  \n",
       "\n",
       "[29996 rows x 8 columns]"
      ]
     },
     "execution_count": 21,
     "metadata": {},
     "output_type": "execute_result"
    }
   ],
   "source": [
    "university=(df_cols['University'] == 'No')\n",
    "employed=(df_cols['EmploymentStatus'] == 'Employed full-time')\n",
    "dev_nem=df_cols[university & employed ]#devs employed full time that didnt attend university\n",
    "\n",
    "dev_nem"
   ]
  },
  {
   "cell_type": "markdown",
   "id": "ready-federal",
   "metadata": {},
   "source": [
    "Only 30,000 Devs employed full time that did not attend university."
   ]
  },
  {
   "cell_type": "code",
   "execution_count": 22,
   "id": "adjacent-performance",
   "metadata": {},
   "outputs": [
    {
     "data": {
      "text/plain": [
       "0.5836706102117061"
      ]
     },
     "execution_count": 22,
     "metadata": {},
     "output_type": "execute_result"
    }
   ],
   "source": [
    "dev_nem.shape[0] / df.shape[0] "
   ]
  },
  {
   "cell_type": "markdown",
   "id": "confidential-steam",
   "metadata": {},
   "source": [
    "# ANS: NO, 58% OF THOSE WHO TOOK THE SURVEY SATISFY THIS REQUIREMENT"
   ]
  },
  {
   "cell_type": "code",
   "execution_count": 23,
   "id": "coordinated-immigration",
   "metadata": {},
   "outputs": [],
   "source": [
    "dev_sad= df_cols[(df_cols['CareerSatisfaction'] <=4.0) & university  & employed]\n",
    "\n",
    "dev_satisfied = df_cols[(df_cols['CareerSatisfaction'] == 5.0) & university  & employed]\n",
    "\n",
    "dev_happy = df_cols[(df_cols ['CareerSatisfaction'] >=6.0) &  university & employed ]"
   ]
  },
  {
   "cell_type": "markdown",
   "id": "postal-balloon",
   "metadata": {},
   "source": [
    "In terms of Career Satisfaction"
   ]
  },
  {
   "cell_type": "code",
   "execution_count": 786,
   "id": "analyzed-assessment",
   "metadata": {},
   "outputs": [
    {
     "data": {
      "image/png": "[encoded data removed]",
      "text/plain": [
       "<Figure size 432x288 with 1 Axes>"
      ]
     },
     "metadata": {
      "needs_background": "light"
     },
     "output_type": "display_data"
    }
   ],
   "source": [
    "fig = plt.figure()\n",
    "ax = fig.add_axes([0,0,1,1])\n",
    "satisfaction = ['Happy', 'Satisfied','Sad']\n",
    "num = [len(dev_happy), len(dev_satisfied), len(dev_sad)]\n",
    "ax.bar(satisfaction, num)\n",
    "ax.set_title('Career Satisfaction')\n",
    "plt.show()"
   ]
  },
  {
   "cell_type": "markdown",
   "id": "later-essay",
   "metadata": {},
   "source": [
    "# ABOUT 25000 OUT OF THE 30000 FULL TIME EMPLOYED DEVS WHO DID NOT ATTEND UNIVERSITY ARE HAPPY WITH THEIR JOBS"
   ]
  },
  {
   "cell_type": "code",
   "execution_count": 24,
   "id": "dental-cameroon",
   "metadata": {},
   "outputs": [
    {
     "data": {
      "text/plain": [
       "0.8431790905454061"
      ]
     },
     "execution_count": 24,
     "metadata": {},
     "output_type": "execute_result"
    }
   ],
   "source": [
    "dev_happy.shape[0]/dev_nem.shape[0]"
   ]
  },
  {
   "cell_type": "markdown",
   "id": "resident-guidance",
   "metadata": {},
   "source": [
    "# 84% of the developers that did not attend university and are employed full time are happy with their jobs."
   ]
  },
  {
   "cell_type": "markdown",
   "id": "dried-robertson",
   "metadata": {},
   "source": [
    "# When it comes to Salaries..."
   ]
  },
  {
   "cell_type": "code",
   "execution_count": 27,
   "id": "diverse-indonesia",
   "metadata": {},
   "outputs": [
    {
     "data": {
      "text/plain": [
       "60198.957157869925"
      ]
     },
     "execution_count": 27,
     "metadata": {},
     "output_type": "execute_result"
    }
   ],
   "source": [
    "dev = df_cols[(df_cols['CareerSatisfaction']>=1.0) &  university & employed ]\n",
    "dev['Salary'].mean()"
   ]
  },
  {
   "cell_type": "markdown",
   "id": "weighted-western",
   "metadata": {},
   "source": [
    "# THESE DEVELOPERS WALK HOME WITH AN AVERAGE OF OVER $60,000."
   ]
  },
  {
   "cell_type": "markdown",
   "id": "strategic-folks",
   "metadata": {},
   "source": [
    "In terms of Career Satisfaction for those that attended university full time"
   ]
  },
  {
   "cell_type": "code",
   "execution_count": 28,
   "id": "dramatic-onion",
   "metadata": {},
   "outputs": [
    {
     "data": {
      "text/html": [
       "<div>\n",
       "<style scoped>\n",
       "    .dataframe tbody tr th:only-of-type {\n",
       "        vertical-align: middle;\n",
       "    }\n",
       "\n",
       "    .dataframe tbody tr th {\n",
       "        vertical-align: top;\n",
       "    }\n",
       "\n",
       "    .dataframe thead th {\n",
       "        text-align: right;\n",
       "    }\n",
       "</style>\n",
       "<table border=\"1\" class=\"dataframe\">\n",
       "  <thead>\n",
       "    <tr style=\"text-align: right;\">\n",
       "      <th></th>\n",
       "      <th>Respondent</th>\n",
       "      <th>University</th>\n",
       "      <th>EmploymentStatus</th>\n",
       "      <th>FormalEducation</th>\n",
       "      <th>MajorUndergrad</th>\n",
       "      <th>CareerSatisfaction</th>\n",
       "      <th>JobSatisfaction</th>\n",
       "      <th>Salary</th>\n",
       "    </tr>\n",
       "  </thead>\n",
       "  <tbody>\n",
       "    <tr>\n",
       "      <th>8</th>\n",
       "      <td>9</td>\n",
       "      <td>Yes, part-time</td>\n",
       "      <td>Employed full-time</td>\n",
       "      <td>Bachelor's degree</td>\n",
       "      <td>Computer science or software engineering</td>\n",
       "      <td>6.0</td>\n",
       "      <td>6.0</td>\n",
       "      <td>NaN</td>\n",
       "    </tr>\n",
       "    <tr>\n",
       "      <th>17</th>\n",
       "      <td>18</td>\n",
       "      <td>Yes, part-time</td>\n",
       "      <td>Employed full-time</td>\n",
       "      <td>Bachelor's degree</td>\n",
       "      <td>Computer science or software engineering</td>\n",
       "      <td>9.0</td>\n",
       "      <td>8.0</td>\n",
       "      <td>130000.000000</td>\n",
       "    </tr>\n",
       "    <tr>\n",
       "      <th>30</th>\n",
       "      <td>31</td>\n",
       "      <td>Yes, part-time</td>\n",
       "      <td>Employed full-time</td>\n",
       "      <td>Bachelor's degree</td>\n",
       "      <td>Computer science or software engineering</td>\n",
       "      <td>8.0</td>\n",
       "      <td>7.0</td>\n",
       "      <td>NaN</td>\n",
       "    </tr>\n",
       "    <tr>\n",
       "      <th>31</th>\n",
       "      <td>32</td>\n",
       "      <td>Yes, part-time</td>\n",
       "      <td>Employed full-time</td>\n",
       "      <td>Some college/university study without earning ...</td>\n",
       "      <td>Computer science or software engineering</td>\n",
       "      <td>7.0</td>\n",
       "      <td>8.0</td>\n",
       "      <td>NaN</td>\n",
       "    </tr>\n",
       "    <tr>\n",
       "      <th>34</th>\n",
       "      <td>35</td>\n",
       "      <td>Yes, full-time</td>\n",
       "      <td>Employed full-time</td>\n",
       "      <td>Bachelor's degree</td>\n",
       "      <td>Computer engineering or electrical/electronics...</td>\n",
       "      <td>10.0</td>\n",
       "      <td>8.0</td>\n",
       "      <td>14838.709677</td>\n",
       "    </tr>\n",
       "    <tr>\n",
       "      <th>...</th>\n",
       "      <td>...</td>\n",
       "      <td>...</td>\n",
       "      <td>...</td>\n",
       "      <td>...</td>\n",
       "      <td>...</td>\n",
       "      <td>...</td>\n",
       "      <td>...</td>\n",
       "      <td>...</td>\n",
       "    </tr>\n",
       "    <tr>\n",
       "      <th>51339</th>\n",
       "      <td>51340</td>\n",
       "      <td>Yes, part-time</td>\n",
       "      <td>Employed full-time</td>\n",
       "      <td>Bachelor's degree</td>\n",
       "      <td>Computer science or software engineering</td>\n",
       "      <td>8.0</td>\n",
       "      <td>8.0</td>\n",
       "      <td>NaN</td>\n",
       "    </tr>\n",
       "    <tr>\n",
       "      <th>51342</th>\n",
       "      <td>51343</td>\n",
       "      <td>Yes, part-time</td>\n",
       "      <td>Employed full-time</td>\n",
       "      <td>Some college/university study without earning ...</td>\n",
       "      <td>Information technology, networking, or system ...</td>\n",
       "      <td>10.0</td>\n",
       "      <td>6.0</td>\n",
       "      <td>NaN</td>\n",
       "    </tr>\n",
       "    <tr>\n",
       "      <th>51346</th>\n",
       "      <td>51347</td>\n",
       "      <td>Yes, full-time</td>\n",
       "      <td>Employed full-time</td>\n",
       "      <td>Bachelor's degree</td>\n",
       "      <td>Computer engineering or electrical/electronics...</td>\n",
       "      <td>10.0</td>\n",
       "      <td>10.0</td>\n",
       "      <td>NaN</td>\n",
       "    </tr>\n",
       "    <tr>\n",
       "      <th>51372</th>\n",
       "      <td>51373</td>\n",
       "      <td>Yes, full-time</td>\n",
       "      <td>Employed full-time</td>\n",
       "      <td>Secondary school</td>\n",
       "      <td>NaN</td>\n",
       "      <td>7.0</td>\n",
       "      <td>7.0</td>\n",
       "      <td>NaN</td>\n",
       "    </tr>\n",
       "    <tr>\n",
       "      <th>51388</th>\n",
       "      <td>51389</td>\n",
       "      <td>Yes, full-time</td>\n",
       "      <td>Employed full-time</td>\n",
       "      <td>Master's degree</td>\n",
       "      <td>Computer programming or Web development</td>\n",
       "      <td>NaN</td>\n",
       "      <td>NaN</td>\n",
       "      <td>NaN</td>\n",
       "    </tr>\n",
       "  </tbody>\n",
       "</table>\n",
       "<p>5688 rows × 8 columns</p>\n",
       "</div>"
      ],
      "text/plain": [
       "       Respondent      University    EmploymentStatus  \\\n",
       "8               9  Yes, part-time  Employed full-time   \n",
       "17             18  Yes, part-time  Employed full-time   \n",
       "30             31  Yes, part-time  Employed full-time   \n",
       "31             32  Yes, part-time  Employed full-time   \n",
       "34             35  Yes, full-time  Employed full-time   \n",
       "...           ...             ...                 ...   \n",
       "51339       51340  Yes, part-time  Employed full-time   \n",
       "51342       51343  Yes, part-time  Employed full-time   \n",
       "51346       51347  Yes, full-time  Employed full-time   \n",
       "51372       51373  Yes, full-time  Employed full-time   \n",
       "51388       51389  Yes, full-time  Employed full-time   \n",
       "\n",
       "                                         FormalEducation  \\\n",
       "8                                      Bachelor's degree   \n",
       "17                                     Bachelor's degree   \n",
       "30                                     Bachelor's degree   \n",
       "31     Some college/university study without earning ...   \n",
       "34                                     Bachelor's degree   \n",
       "...                                                  ...   \n",
       "51339                                  Bachelor's degree   \n",
       "51342  Some college/university study without earning ...   \n",
       "51346                                  Bachelor's degree   \n",
       "51372                                   Secondary school   \n",
       "51388                                    Master's degree   \n",
       "\n",
       "                                          MajorUndergrad  CareerSatisfaction  \\\n",
       "8               Computer science or software engineering                 6.0   \n",
       "17              Computer science or software engineering                 9.0   \n",
       "30              Computer science or software engineering                 8.0   \n",
       "31              Computer science or software engineering                 7.0   \n",
       "34     Computer engineering or electrical/electronics...                10.0   \n",
       "...                                                  ...                 ...   \n",
       "51339           Computer science or software engineering                 8.0   \n",
       "51342  Information technology, networking, or system ...                10.0   \n",
       "51346  Computer engineering or electrical/electronics...                10.0   \n",
       "51372                                                NaN                 7.0   \n",
       "51388            Computer programming or Web development                 NaN   \n",
       "\n",
       "       JobSatisfaction         Salary  \n",
       "8                  6.0            NaN  \n",
       "17                 8.0  130000.000000  \n",
       "30                 7.0            NaN  \n",
       "31                 8.0            NaN  \n",
       "34                 8.0   14838.709677  \n",
       "...                ...            ...  \n",
       "51339              8.0            NaN  \n",
       "51342              6.0            NaN  \n",
       "51346             10.0            NaN  \n",
       "51372              7.0            NaN  \n",
       "51388              NaN            NaN  \n",
       "\n",
       "[5688 rows x 8 columns]"
      ]
     },
     "execution_count": 28,
     "metadata": {},
     "output_type": "execute_result"
    }
   ],
   "source": [
    "university2=(df_cols['University'] != 'No')\n",
    "university3=(df_cols['University'] != 'I prefer not to say')\n",
    "employed=(df_cols['EmploymentStatus'] == 'Employed full-time')\n",
    "dev_nem2=df_cols[university2 & university3 & employed ]#devs employed full time that  attended university\n",
    "\n",
    "dev_nem2"
   ]
  },
  {
   "cell_type": "markdown",
   "id": "reverse-gothic",
   "metadata": {},
   "source": [
    "5688 DEVS attended university both full time and part time and are employed"
   ]
  },
  {
   "cell_type": "code",
   "execution_count": 29,
   "id": "spare-aurora",
   "metadata": {},
   "outputs": [],
   "source": [
    "dev_sad2=  df_cols[(df_cols['CareerSatisfaction'] <=4.0) & university2 & university3  & employed]\n",
    "\n",
    "dev_satisfied2 = df_cols[(df_cols['CareerSatisfaction'] == 5.0) & university2 & university3  & employed]\n",
    "\n",
    "dev_happy2 = df_cols[(df_cols ['CareerSatisfaction'] >=6.0) &  university2 & university3 & employed ]"
   ]
  },
  {
   "cell_type": "code",
   "execution_count": 30,
   "id": "exempt-threat",
   "metadata": {
    "scrolled": true
   },
   "outputs": [
    {
     "data": {
      "text/plain": [
       "0.11067870485678705"
      ]
     },
     "execution_count": 30,
     "metadata": {},
     "output_type": "execute_result"
    }
   ],
   "source": [
    "dev_nem2.shape[0] / df.shape[0]"
   ]
  },
  {
   "cell_type": "markdown",
   "id": "tracked-toner",
   "metadata": {},
   "source": [
    "# 11% of Developers went to University and are employed either part time or full time"
   ]
  },
  {
   "cell_type": "code",
   "execution_count": 31,
   "id": "dress-eugene",
   "metadata": {},
   "outputs": [
    {
     "data": {
      "image/png": "[encoded data removed]",
      "text/plain": [
       "<Figure size 432x288 with 1 Axes>"
      ]
     },
     "metadata": {
      "needs_background": "light"
     },
     "output_type": "display_data"
    }
   ],
   "source": [
    "fig2 = plt.figure()\n",
    "ax2 = fig2.add_axes([0,0,1,1])\n",
    "satisfaction2 = ['Happy', 'Satisfied','Sad']\n",
    "num2 = [len(dev_happy2), len(dev_satisfied2), len(dev_sad2)]\n",
    "ax2.bar(satisfaction2, num2)\n",
    "ax2.set_title('Career Satisfaction')\n",
    "plt.show()"
   ]
  },
  {
   "cell_type": "markdown",
   "id": "protecting-level",
   "metadata": {},
   "source": [
    "# ABOUT 4000 OUT OF 5688 FULL TIME EMPLOYED DEVS WHO ATTENDED UNIVERSITY ARE HAPPY WITH THEIR JOBS"
   ]
  },
  {
   "cell_type": "code",
   "execution_count": 32,
   "id": "absolute-gospel",
   "metadata": {},
   "outputs": [
    {
     "data": {
      "text/plain": [
       "0.7162447257383966"
      ]
     },
     "execution_count": 32,
     "metadata": {},
     "output_type": "execute_result"
    }
   ],
   "source": [
    "dev_happy2.shape[0]/dev_nem2.shape[0]"
   ]
  },
  {
   "cell_type": "markdown",
   "id": "first-pillow",
   "metadata": {},
   "source": [
    "# 72% of the developers who attended University are happy /satisfied with their jobs"
   ]
  },
  {
   "cell_type": "code",
   "execution_count": 791,
   "id": "multiple-tongue",
   "metadata": {},
   "outputs": [
    {
     "data": {
      "text/plain": [
       "36229.716045887726"
      ]
     },
     "execution_count": 791,
     "metadata": {},
     "output_type": "execute_result"
    }
   ],
   "source": [
    "dev_part = df_cols[(df_cols['CareerSatisfaction']>=1.0) &  university2 &university3 & employed ]\n",
    "dev_part['Salary'].mean()V"
   ]
  },
  {
   "cell_type": "markdown",
   "id": "modified-workstation",
   "metadata": {},
   "source": [
    "#### AN AVERAGE OF $36000"
   ]
  },
  {
   "cell_type": "markdown",
   "id": "dense-extent",
   "metadata": {},
   "source": [
    "# 3) HOW EFFECTIVE IS WORKING REMOTELY AS A SOFTWARE DEVELOPER."
   ]
  },
  {
   "cell_type": "markdown",
   "id": "directed-compromise",
   "metadata": {},
   "source": [
    " We would also use Career Satisfaction and salary as metrics , job satisfaction would be included as well"
   ]
  },
  {
   "cell_type": "code",
   "execution_count": 34,
   "id": "athletic-bangladesh",
   "metadata": {},
   "outputs": [
    {
     "data": {
      "text/html": [
       "<div>\n",
       "<style scoped>\n",
       "    .dataframe tbody tr th:only-of-type {\n",
       "        vertical-align: middle;\n",
       "    }\n",
       "\n",
       "    .dataframe tbody tr th {\n",
       "        vertical-align: top;\n",
       "    }\n",
       "\n",
       "    .dataframe thead th {\n",
       "        text-align: right;\n",
       "    }\n",
       "</style>\n",
       "<table border=\"1\" class=\"dataframe\">\n",
       "  <thead>\n",
       "    <tr style=\"text-align: right;\">\n",
       "      <th></th>\n",
       "      <th>Respondent</th>\n",
       "      <th>EmploymentStatus</th>\n",
       "      <th>University</th>\n",
       "      <th>HomeRemote</th>\n",
       "      <th>CareerSatisfaction</th>\n",
       "      <th>JobSatisfaction</th>\n",
       "      <th>Salary</th>\n",
       "    </tr>\n",
       "  </thead>\n",
       "  <tbody>\n",
       "    <tr>\n",
       "      <th>2</th>\n",
       "      <td>3</td>\n",
       "      <td>Employed full-time</td>\n",
       "      <td>No</td>\n",
       "      <td>Less than half the time, but at least one day ...</td>\n",
       "      <td>8.0</td>\n",
       "      <td>9.0</td>\n",
       "      <td>113750.0</td>\n",
       "    </tr>\n",
       "    <tr>\n",
       "      <th>14</th>\n",
       "      <td>15</td>\n",
       "      <td>Employed full-time</td>\n",
       "      <td>No</td>\n",
       "      <td>All or almost all the time (I'm full-time remote)</td>\n",
       "      <td>8.0</td>\n",
       "      <td>8.0</td>\n",
       "      <td>100000.0</td>\n",
       "    </tr>\n",
       "    <tr>\n",
       "      <th>17</th>\n",
       "      <td>18</td>\n",
       "      <td>Employed full-time</td>\n",
       "      <td>Yes, part-time</td>\n",
       "      <td>All or almost all the time (I'm full-time remote)</td>\n",
       "      <td>9.0</td>\n",
       "      <td>8.0</td>\n",
       "      <td>130000.0</td>\n",
       "    </tr>\n",
       "    <tr>\n",
       "      <th>18</th>\n",
       "      <td>19</td>\n",
       "      <td>Employed full-time</td>\n",
       "      <td>No</td>\n",
       "      <td>A few days each month</td>\n",
       "      <td>5.0</td>\n",
       "      <td>3.0</td>\n",
       "      <td>82500.0</td>\n",
       "    </tr>\n",
       "    <tr>\n",
       "      <th>22</th>\n",
       "      <td>23</td>\n",
       "      <td>Employed full-time</td>\n",
       "      <td>No</td>\n",
       "      <td>A few days each month</td>\n",
       "      <td>8.0</td>\n",
       "      <td>9.0</td>\n",
       "      <td>100764.0</td>\n",
       "    </tr>\n",
       "  </tbody>\n",
       "</table>\n",
       "</div>"
      ],
      "text/plain": [
       "    Respondent    EmploymentStatus      University  \\\n",
       "2            3  Employed full-time              No   \n",
       "14          15  Employed full-time              No   \n",
       "17          18  Employed full-time  Yes, part-time   \n",
       "18          19  Employed full-time              No   \n",
       "22          23  Employed full-time              No   \n",
       "\n",
       "                                           HomeRemote  CareerSatisfaction  \\\n",
       "2   Less than half the time, but at least one day ...                 8.0   \n",
       "14  All or almost all the time (I'm full-time remote)                 8.0   \n",
       "17  All or almost all the time (I'm full-time remote)                 9.0   \n",
       "18                              A few days each month                 5.0   \n",
       "22                              A few days each month                 8.0   \n",
       "\n",
       "    JobSatisfaction    Salary  \n",
       "2               9.0  113750.0  \n",
       "14              8.0  100000.0  \n",
       "17              8.0  130000.0  \n",
       "18              3.0   82500.0  \n",
       "22              9.0  100764.0  "
      ]
     },
     "execution_count": 34,
     "metadata": {},
     "output_type": "execute_result"
    }
   ],
   "source": [
    "cols2= ['Respondent','EmploymentStatus','University','HomeRemote','CareerSatisfaction', 'JobSatisfaction','Salary']\n",
    "df_selectedcols2= df[cols2].dropna(how='any')\n",
    "df_selectedcols2.head()"
   ]
  },
  {
   "cell_type": "code",
   "execution_count": 35,
   "id": "welcome-premises",
   "metadata": {
    "scrolled": false
   },
   "outputs": [
    {
     "data": {
      "text/plain": [
       "A few days each month                                      5096\n",
       "Never                                                      4283\n",
       "Less than half the time, but at least one day each week    1261\n",
       "All or almost all the time (I'm full-time remote)           894\n",
       "It's complicated                                            646\n",
       "About half the time                                         334\n",
       "More than half, but not all, the time                       326\n",
       "Name: HomeRemote, dtype: int64"
      ]
     },
     "execution_count": 35,
     "metadata": {},
     "output_type": "execute_result"
    }
   ],
   "source": [
    "df_selectedcols2['HomeRemote'].value_counts()"
   ]
  },
  {
   "cell_type": "code",
   "execution_count": 41,
   "id": "thermal-federal",
   "metadata": {
    "scrolled": true
   },
   "outputs": [
    {
     "data": {
      "text/plain": [
       "<AxesSubplot:>"
      ]
     },
     "execution_count": 41,
     "metadata": {},
     "output_type": "execute_result"
    },
    {
     "data": {
      "image/png": "[encoded data removed]",
      "text/plain": [
       "<Figure size 1080x504 with 1 Axes>"
      ]
     },
     "metadata": {
      "needs_background": "light"
     },
     "output_type": "display_data"
    }
   ],
   "source": [
    "df_selectedcols2['HomeRemote'].value_counts().plot(kind=\"bar\", figsize=(15,7), color=\"#61d199\")"
   ]
  },
  {
   "cell_type": "code",
   "execution_count": 42,
   "id": "marked-korea",
   "metadata": {},
   "outputs": [
    {
     "data": {
      "text/plain": [
       "56298.480640629256"
      ]
     },
     "execution_count": 42,
     "metadata": {},
     "output_type": "execute_result"
    }
   ],
   "source": [
    "df['Salary'].mean()"
   ]
  },
  {
   "cell_type": "code",
   "execution_count": 44,
   "id": "medical-antibody",
   "metadata": {},
   "outputs": [
    {
     "data": {
      "text/plain": [
       "7.300573837685912"
      ]
     },
     "execution_count": 44,
     "metadata": {},
     "output_type": "execute_result"
    }
   ],
   "source": [
    "df['CareerSatisfaction'].mean()"
   ]
  },
  {
   "cell_type": "code",
   "execution_count": 49,
   "id": "owned-singles",
   "metadata": {},
   "outputs": [
    {
     "data": {
      "text/plain": [
       "6.957078462452943"
      ]
     },
     "execution_count": 49,
     "metadata": {},
     "output_type": "execute_result"
    }
   ],
   "source": [
    "df['JobSatisfaction'].mean()"
   ]
  },
  {
   "cell_type": "code",
   "execution_count": 45,
   "id": "mysterious-picnic",
   "metadata": {},
   "outputs": [],
   "source": [
    "df_HR1 = df_selectedcols2[(df_selectedcols2['HomeRemote'] =='All or almost all the time (I\\'m full-time remote)')]\n",
    "df_HR2 = df_selectedcols2[(df_selectedcols2['HomeRemote'] =='More than half, but not all, the time')]\n",
    "df_HR3 = df_selectedcols2[(df_selectedcols2['HomeRemote'] =='About half the time')]\n",
    "df_HR4 = df_selectedcols2[(df_selectedcols2['HomeRemote'] == 'Less than half the time, but at least one day each week')]\n",
    "df_HR5 = df_selectedcols2[(df_selectedcols2['HomeRemote'] == 'A few days each month')]   \n",
    "df_HR6 = df_selectedcols2[(df_selectedcols2['HomeRemote'] == 'It\\'s complicated' )]\n",
    "df_HR7 = df_selectedcols2[(df_selectedcols2['HomeRemote'] ==  'Never')]"
   ]
  },
  {
   "cell_type": "code",
   "execution_count": 50,
   "id": "copyrighted-myanmar",
   "metadata": {},
   "outputs": [],
   "source": [
    "a_HR = df_HR1[(df_HR1['Salary']>=56000)] \n",
    "b_HR = df_HR2[(df_HR2['Salary']>=56000)]\n",
    "c_HR = df_HR3[(df_HR3['Salary']>=56000)]\n",
    "d_HR = df_HR4[(df_HR4['Salary']>=56000)]\n",
    "e_HR = df_HR5[(df_HR5['Salary']>=56000)]\n",
    "f_HR = df_HR6[(df_HR6['Salary']>=56000)]\n",
    "g_HR = df_HR7[(df_HR7['Salary']>=56000)]"
   ]
  },
  {
   "cell_type": "code",
   "execution_count": 69,
   "id": "little-humidity",
   "metadata": {},
   "outputs": [],
   "source": [
    "dev_HR = a_HR[(a_HR['CareerSatisfaction']>=7)&(a_HR['JobSatisfaction']>=7)]\n",
    "dev_HR1 = b_HR[(b_HR['CareerSatisfaction']>=7)&(b_HR['JobSatisfaction']>=7)]\n",
    "dev_HR2 = c_HR[(c_HR['CareerSatisfaction']>=7)&(c_HR['JobSatisfaction']>=7)]\n",
    "dev_HR3 = d_HR[(d_HR['CareerSatisfaction']>=7)&(d_HR['JobSatisfaction']>=7)]\n",
    "dev_HR4 = e_HR[(e_HR['CareerSatisfaction']>=7)&(e_HR['JobSatisfaction']>=7)]\n",
    "dev_HR5 = f_HR[(f_HR['CareerSatisfaction']>=7)&(f_HR['JobSatisfaction']>=7)]\n",
    "dev_HR6 = g_HR[(g_HR['CareerSatisfaction']>=7)&(g_HR['JobSatisfaction']>=7)]\n"
   ]
  },
  {
   "cell_type": "code",
   "execution_count": 79,
   "id": "suffering-david",
   "metadata": {},
   "outputs": [],
   "source": [
    "a1 = dev_HR.shape[0]/df_HR1.shape[0]\n",
    "b1 = dev_HR1.shape[0]/df_HR2.shape[0]\n",
    "c1 = dev_HR2.shape[0]/df_HR3.shape[0]\n",
    "d1 = dev_HR3.shape[0]/df_HR4.shape[0]\n",
    "e1 = dev_HR4.shape[0]/df_HR5.shape[0]\n",
    "f1 = dev_HR5.shape[0]/df_HR6.shape[0]\n",
    "g1 = dev_HR6.shape[0]/df_HR7.shape[0]"
   ]
  },
  {
   "cell_type": "code",
   "execution_count": 80,
   "id": "raised-tobacco",
   "metadata": {},
   "outputs": [
    {
     "data": {
      "text/plain": [
       "0.45302013422818793"
      ]
     },
     "execution_count": 80,
     "metadata": {},
     "output_type": "execute_result"
    }
   ],
   "source": [
    "dev_HR.shape[0]/df_HR1.shape[0]"
   ]
  },
  {
   "cell_type": "markdown",
   "id": "identified-addition",
   "metadata": {},
   "source": [
    "45% of Devs who worked 'All or almost all the time (I'm full-time remote)' are successful"
   ]
  },
  {
   "cell_type": "code",
   "execution_count": 54,
   "id": "documented-aircraft",
   "metadata": {
    "scrolled": true
   },
   "outputs": [
    {
     "data": {
      "text/plain": [
       "0.2883435582822086"
      ]
     },
     "execution_count": 54,
     "metadata": {},
     "output_type": "execute_result"
    }
   ],
   "source": [
    "dev_HR1.shape[0]/df_HR2.shape[0]"
   ]
  },
  {
   "cell_type": "markdown",
   "id": "representative-template",
   "metadata": {},
   "source": [
    "28% of Devs who worked 'More than half, but not all, the time' are successful."
   ]
  },
  {
   "cell_type": "code",
   "execution_count": 55,
   "id": "continuing-korea",
   "metadata": {
    "scrolled": true
   },
   "outputs": [
    {
     "data": {
      "text/plain": [
       "0.3263473053892216"
      ]
     },
     "execution_count": 55,
     "metadata": {},
     "output_type": "execute_result"
    }
   ],
   "source": [
    "dev_HR2.shape[0]/df_HR3.shape[0]"
   ]
  },
  {
   "cell_type": "markdown",
   "id": "cellular-print",
   "metadata": {},
   "source": [
    "32% of Devs who worked 'About half the time' are successful."
   ]
  },
  {
   "cell_type": "code",
   "execution_count": 56,
   "id": "intelligent-milwaukee",
   "metadata": {},
   "outputs": [
    {
     "data": {
      "text/plain": [
       "0.3576526566217288"
      ]
     },
     "execution_count": 56,
     "metadata": {},
     "output_type": "execute_result"
    }
   ],
   "source": [
    "dev_HR3.shape[0]/df_HR4.shape[0]"
   ]
  },
  {
   "cell_type": "markdown",
   "id": "differential-aruba",
   "metadata": {},
   "source": [
    "35% of Devs who worked 'Less than half the time, but at least one day each week' are successful"
   ]
  },
  {
   "cell_type": "code",
   "execution_count": 57,
   "id": "streaming-october",
   "metadata": {
    "scrolled": true
   },
   "outputs": [
    {
     "data": {
      "text/plain": [
       "0.3302590266875981"
      ]
     },
     "execution_count": 57,
     "metadata": {},
     "output_type": "execute_result"
    }
   ],
   "source": [
    "dev_HR4.shape[0]/df_HR5.shape[0]"
   ]
  },
  {
   "cell_type": "markdown",
   "id": "stuck-chuck",
   "metadata": {},
   "source": [
    "33% of Devs who worked 'A few days each month'remotely are successful"
   ]
  },
  {
   "cell_type": "code",
   "execution_count": 58,
   "id": "formed-course",
   "metadata": {},
   "outputs": [
    {
     "data": {
      "text/plain": [
       "0.28328173374613"
      ]
     },
     "execution_count": 58,
     "metadata": {},
     "output_type": "execute_result"
    }
   ],
   "source": [
    "dev_HR5.shape[0]/df_HR6.shape[0]"
   ]
  },
  {
   "cell_type": "markdown",
   "id": "physical-constitutional",
   "metadata": {},
   "source": [
    "28% of Devs who described working remotely 'It's complicated' are successful"
   ]
  },
  {
   "cell_type": "code",
   "execution_count": 59,
   "id": "challenging-short",
   "metadata": {},
   "outputs": [
    {
     "data": {
      "text/plain": [
       "0.19425636236282978"
      ]
     },
     "execution_count": 59,
     "metadata": {},
     "output_type": "execute_result"
    }
   ],
   "source": [
    "dev_HR6.shape[0]/df_HR7.shape[0]"
   ]
  },
  {
   "cell_type": "markdown",
   "id": "african-organ",
   "metadata": {},
   "source": [
    "19% of Devs who 'Never'  worked remotely are successful "
   ]
  },
  {
   "cell_type": "code",
   "execution_count": 60,
   "id": "sought-shipping",
   "metadata": {},
   "outputs": [
    {
     "data": {
      "text/plain": [
       "0.45302013422818793"
      ]
     },
     "execution_count": 60,
     "metadata": {},
     "output_type": "execute_result"
    }
   ],
   "source": [
    "a1"
   ]
  },
  {
   "cell_type": "code",
   "execution_count": 82,
   "id": "happy-pressing",
   "metadata": {},
   "outputs": [
    {
     "data": {
      "image/png": "[encoded data removed]",
      "text/plain": [
       "<Figure size 432x288 with 1 Axes>"
      ]
     },
     "metadata": {},
     "output_type": "display_data"
    }
   ],
   "source": [
    "fig = plt.figure()\n",
    "ax = fig.add_axes([0,0,1,1])\n",
    "ax.axis('equal')\n",
    "HomeRemote = ['All or almost all the time (I\\'m full-time remote)','More than half, but not all, the time','About half the time', ' Less than half the time, but at least one day each week', 'A few days each month', 'It\\'s complicated','Never']\n",
    "Developers = [a1,b1,c1,d1,e1,f1,g1]\n",
    "ax.pie(Developers, labels = HomeRemote, autopct='%1.2f%%')\n",
    "plt.show()"
   ]
  },
  {
   "cell_type": "markdown",
   "id": "loose-reaction",
   "metadata": {},
   "source": [
    "# 4)PERCENTAGE OF SUCCESSFUL FEMALE SOFTWARE DEVELOPER USING CAREERSATISFACTION AND SALARY AS METRICS"
   ]
  },
  {
   "cell_type": "code",
   "execution_count": 587,
   "id": "cleared-weather",
   "metadata": {},
   "outputs": [
    {
     "data": {
      "text/html": [
       "<div>\n",
       "<style scoped>\n",
       "    .dataframe tbody tr th:only-of-type {\n",
       "        vertical-align: middle;\n",
       "    }\n",
       "\n",
       "    .dataframe tbody tr th {\n",
       "        vertical-align: top;\n",
       "    }\n",
       "\n",
       "    .dataframe thead th {\n",
       "        text-align: right;\n",
       "    }\n",
       "</style>\n",
       "<table border=\"1\" class=\"dataframe\">\n",
       "  <thead>\n",
       "    <tr style=\"text-align: right;\">\n",
       "      <th></th>\n",
       "      <th>Respondent</th>\n",
       "      <th>CareerSatisfaction</th>\n",
       "      <th>Gender</th>\n",
       "      <th>Salary</th>\n",
       "    </tr>\n",
       "  </thead>\n",
       "  <tbody>\n",
       "    <tr>\n",
       "      <th>0</th>\n",
       "      <td>1</td>\n",
       "      <td>NaN</td>\n",
       "      <td>Male</td>\n",
       "      <td>NaN</td>\n",
       "    </tr>\n",
       "    <tr>\n",
       "      <th>1</th>\n",
       "      <td>2</td>\n",
       "      <td>NaN</td>\n",
       "      <td>Male</td>\n",
       "      <td>NaN</td>\n",
       "    </tr>\n",
       "    <tr>\n",
       "      <th>2</th>\n",
       "      <td>3</td>\n",
       "      <td>8.0</td>\n",
       "      <td>Male</td>\n",
       "      <td>113750.0</td>\n",
       "    </tr>\n",
       "    <tr>\n",
       "      <th>3</th>\n",
       "      <td>4</td>\n",
       "      <td>6.0</td>\n",
       "      <td>Male</td>\n",
       "      <td>NaN</td>\n",
       "    </tr>\n",
       "    <tr>\n",
       "      <th>4</th>\n",
       "      <td>5</td>\n",
       "      <td>6.0</td>\n",
       "      <td>NaN</td>\n",
       "      <td>NaN</td>\n",
       "    </tr>\n",
       "  </tbody>\n",
       "</table>\n",
       "</div>"
      ],
      "text/plain": [
       "   Respondent  CareerSatisfaction Gender    Salary\n",
       "0           1                 NaN   Male       NaN\n",
       "1           2                 NaN   Male       NaN\n",
       "2           3                 8.0   Male  113750.0\n",
       "3           4                 6.0   Male       NaN\n",
       "4           5                 6.0    NaN       NaN"
      ]
     },
     "execution_count": 587,
     "metadata": {},
     "output_type": "execute_result"
    }
   ],
   "source": [
    "fem =['Respondent','CareerSatisfaction','Gender','Salary']\n",
    "df_fem = df[fem]\n",
    "\n",
    "df_fem.head()"
   ]
  },
  {
   "cell_type": "code",
   "execution_count": 588,
   "id": "vocal-olympus",
   "metadata": {},
   "outputs": [
    {
     "data": {
      "text/html": [
       "<div>\n",
       "<style scoped>\n",
       "    .dataframe tbody tr th:only-of-type {\n",
       "        vertical-align: middle;\n",
       "    }\n",
       "\n",
       "    .dataframe tbody tr th {\n",
       "        vertical-align: top;\n",
       "    }\n",
       "\n",
       "    .dataframe thead th {\n",
       "        text-align: right;\n",
       "    }\n",
       "</style>\n",
       "<table border=\"1\" class=\"dataframe\">\n",
       "  <thead>\n",
       "    <tr style=\"text-align: right;\">\n",
       "      <th></th>\n",
       "      <th>Respondent</th>\n",
       "      <th>CareerSatisfaction</th>\n",
       "      <th>Gender</th>\n",
       "      <th>Salary</th>\n",
       "    </tr>\n",
       "  </thead>\n",
       "  <tbody>\n",
       "    <tr>\n",
       "      <th>2</th>\n",
       "      <td>3</td>\n",
       "      <td>8.0</td>\n",
       "      <td>Male</td>\n",
       "      <td>113750.0</td>\n",
       "    </tr>\n",
       "    <tr>\n",
       "      <th>14</th>\n",
       "      <td>15</td>\n",
       "      <td>8.0</td>\n",
       "      <td>Male</td>\n",
       "      <td>100000.0</td>\n",
       "    </tr>\n",
       "    <tr>\n",
       "      <th>17</th>\n",
       "      <td>18</td>\n",
       "      <td>9.0</td>\n",
       "      <td>Male</td>\n",
       "      <td>130000.0</td>\n",
       "    </tr>\n",
       "    <tr>\n",
       "      <th>22</th>\n",
       "      <td>23</td>\n",
       "      <td>8.0</td>\n",
       "      <td>Male</td>\n",
       "      <td>100764.0</td>\n",
       "    </tr>\n",
       "    <tr>\n",
       "      <th>25</th>\n",
       "      <td>26</td>\n",
       "      <td>7.0</td>\n",
       "      <td>Male</td>\n",
       "      <td>175000.0</td>\n",
       "    </tr>\n",
       "  </tbody>\n",
       "</table>\n",
       "</div>"
      ],
      "text/plain": [
       "    Respondent  CareerSatisfaction Gender    Salary\n",
       "2            3                 8.0   Male  113750.0\n",
       "14          15                 8.0   Male  100000.0\n",
       "17          18                 9.0   Male  130000.0\n",
       "22          23                 8.0   Male  100764.0\n",
       "25          26                 7.0   Male  175000.0"
      ]
     },
     "execution_count": 588,
     "metadata": {},
     "output_type": "execute_result"
    }
   ],
   "source": [
    "df_fem2 = df_fem.dropna(how = 'any')\n",
    "df_fem2.head()"
   ]
  },
  {
   "cell_type": "code",
   "execution_count": 74,
   "id": "collect-steps",
   "metadata": {},
   "outputs": [
    {
     "data": {
      "text/html": [
       "<div>\n",
       "<style scoped>\n",
       "    .dataframe tbody tr th:only-of-type {\n",
       "        vertical-align: middle;\n",
       "    }\n",
       "\n",
       "    .dataframe tbody tr th {\n",
       "        vertical-align: top;\n",
       "    }\n",
       "\n",
       "    .dataframe thead th {\n",
       "        text-align: right;\n",
       "    }\n",
       "</style>\n",
       "<table border=\"1\" class=\"dataframe\">\n",
       "  <thead>\n",
       "    <tr style=\"text-align: right;\">\n",
       "      <th></th>\n",
       "      <th>Respondent</th>\n",
       "      <th>CareerSatisfaction</th>\n",
       "      <th>Gender</th>\n",
       "      <th>Salary</th>\n",
       "    </tr>\n",
       "  </thead>\n",
       "  <tbody>\n",
       "    <tr>\n",
       "      <th>1832</th>\n",
       "      <td>1833</td>\n",
       "      <td>7.0</td>\n",
       "      <td>Female</td>\n",
       "      <td>136000.0</td>\n",
       "    </tr>\n",
       "    <tr>\n",
       "      <th>2530</th>\n",
       "      <td>2531</td>\n",
       "      <td>8.0</td>\n",
       "      <td>Female</td>\n",
       "      <td>104000.0</td>\n",
       "    </tr>\n",
       "    <tr>\n",
       "      <th>5331</th>\n",
       "      <td>5332</td>\n",
       "      <td>9.0</td>\n",
       "      <td>Female</td>\n",
       "      <td>110000.0</td>\n",
       "    </tr>\n",
       "    <tr>\n",
       "      <th>5412</th>\n",
       "      <td>5413</td>\n",
       "      <td>6.0</td>\n",
       "      <td>Female</td>\n",
       "      <td>120000.0</td>\n",
       "    </tr>\n",
       "    <tr>\n",
       "      <th>5819</th>\n",
       "      <td>5820</td>\n",
       "      <td>7.0</td>\n",
       "      <td>Female</td>\n",
       "      <td>100000.0</td>\n",
       "    </tr>\n",
       "    <tr>\n",
       "      <th>...</th>\n",
       "      <td>...</td>\n",
       "      <td>...</td>\n",
       "      <td>...</td>\n",
       "      <td>...</td>\n",
       "    </tr>\n",
       "    <tr>\n",
       "      <th>49594</th>\n",
       "      <td>49595</td>\n",
       "      <td>6.0</td>\n",
       "      <td>Female</td>\n",
       "      <td>130000.0</td>\n",
       "    </tr>\n",
       "    <tr>\n",
       "      <th>49607</th>\n",
       "      <td>49608</td>\n",
       "      <td>8.0</td>\n",
       "      <td>Female</td>\n",
       "      <td>135000.0</td>\n",
       "    </tr>\n",
       "    <tr>\n",
       "      <th>49940</th>\n",
       "      <td>49941</td>\n",
       "      <td>6.0</td>\n",
       "      <td>Female</td>\n",
       "      <td>118000.0</td>\n",
       "    </tr>\n",
       "    <tr>\n",
       "      <th>51114</th>\n",
       "      <td>51115</td>\n",
       "      <td>9.0</td>\n",
       "      <td>Female</td>\n",
       "      <td>135000.0</td>\n",
       "    </tr>\n",
       "    <tr>\n",
       "      <th>51308</th>\n",
       "      <td>51309</td>\n",
       "      <td>7.0</td>\n",
       "      <td>Female</td>\n",
       "      <td>105000.0</td>\n",
       "    </tr>\n",
       "  </tbody>\n",
       "</table>\n",
       "<p>123 rows × 4 columns</p>\n",
       "</div>"
      ],
      "text/plain": [
       "       Respondent  CareerSatisfaction  Gender    Salary\n",
       "1832         1833                 7.0  Female  136000.0\n",
       "2530         2531                 8.0  Female  104000.0\n",
       "5331         5332                 9.0  Female  110000.0\n",
       "5412         5413                 6.0  Female  120000.0\n",
       "5819         5820                 7.0  Female  100000.0\n",
       "...           ...                 ...     ...       ...\n",
       "49594       49595                 6.0  Female  130000.0\n",
       "49607       49608                 8.0  Female  135000.0\n",
       "49940       49941                 6.0  Female  118000.0\n",
       "51114       51115                 9.0  Female  135000.0\n",
       "51308       51309                 7.0  Female  105000.0\n",
       "\n",
       "[123 rows x 4 columns]"
      ]
     },
     "execution_count": 74,
     "metadata": {},
     "output_type": "execute_result"
    }
   ],
   "source": [
    "gender=(df_fem2['Gender'] == 'Female')\n",
    "CS=(df_fem2['CareerSatisfaction'] >= 6.0)\n",
    "Salary = (df_fem2['Salary'] >= 100000)\n",
    "dev_fem=df_fem2[gender & CS & Salary]#female devs that have high career satisfaction\n",
    "\n",
    "dev_fem"
   ]
  },
  {
   "cell_type": "code",
   "execution_count": 75,
   "id": "armed-government",
   "metadata": {},
   "outputs": [
    {
     "data": {
      "text/plain": [
       "0.002393368617683686"
      ]
     },
     "execution_count": 75,
     "metadata": {},
     "output_type": "execute_result"
    }
   ],
   "source": [
    "dev_fem.shape[0]/df.shape[0]"
   ]
  },
  {
   "cell_type": "markdown",
   "id": "impossible-eagle",
   "metadata": {},
   "source": [
    "# ONLY 0.2% OF THE SOFTWARE DEVELOPERS THAT TOOK THE SURVEY ARE 'SUCCESSFUL' FEMALES"
   ]
  },
  {
   "cell_type": "code",
   "execution_count": 809,
   "id": "removed-vaccine",
   "metadata": {},
   "outputs": [
    {
     "data": {
      "text/html": [
       "<div>\n",
       "<style scoped>\n",
       "    .dataframe tbody tr th:only-of-type {\n",
       "        vertical-align: middle;\n",
       "    }\n",
       "\n",
       "    .dataframe tbody tr th {\n",
       "        vertical-align: top;\n",
       "    }\n",
       "\n",
       "    .dataframe thead th {\n",
       "        text-align: right;\n",
       "    }\n",
       "</style>\n",
       "<table border=\"1\" class=\"dataframe\">\n",
       "  <thead>\n",
       "    <tr style=\"text-align: right;\">\n",
       "      <th></th>\n",
       "      <th>Respondent</th>\n",
       "      <th>CareerSatisfaction</th>\n",
       "      <th>Gender</th>\n",
       "      <th>Salary</th>\n",
       "    </tr>\n",
       "  </thead>\n",
       "  <tbody>\n",
       "    <tr>\n",
       "      <th>2</th>\n",
       "      <td>3</td>\n",
       "      <td>8.0</td>\n",
       "      <td>Male</td>\n",
       "      <td>113750.00000</td>\n",
       "    </tr>\n",
       "    <tr>\n",
       "      <th>14</th>\n",
       "      <td>15</td>\n",
       "      <td>8.0</td>\n",
       "      <td>Male</td>\n",
       "      <td>100000.00000</td>\n",
       "    </tr>\n",
       "    <tr>\n",
       "      <th>17</th>\n",
       "      <td>18</td>\n",
       "      <td>9.0</td>\n",
       "      <td>Male</td>\n",
       "      <td>130000.00000</td>\n",
       "    </tr>\n",
       "    <tr>\n",
       "      <th>22</th>\n",
       "      <td>23</td>\n",
       "      <td>8.0</td>\n",
       "      <td>Male</td>\n",
       "      <td>100764.00000</td>\n",
       "    </tr>\n",
       "    <tr>\n",
       "      <th>25</th>\n",
       "      <td>26</td>\n",
       "      <td>7.0</td>\n",
       "      <td>Male</td>\n",
       "      <td>175000.00000</td>\n",
       "    </tr>\n",
       "    <tr>\n",
       "      <th>...</th>\n",
       "      <td>...</td>\n",
       "      <td>...</td>\n",
       "      <td>...</td>\n",
       "      <td>...</td>\n",
       "    </tr>\n",
       "    <tr>\n",
       "      <th>51311</th>\n",
       "      <td>51312</td>\n",
       "      <td>9.0</td>\n",
       "      <td>Male</td>\n",
       "      <td>105400.00000</td>\n",
       "    </tr>\n",
       "    <tr>\n",
       "      <th>51312</th>\n",
       "      <td>51313</td>\n",
       "      <td>7.0</td>\n",
       "      <td>Male</td>\n",
       "      <td>120000.00000</td>\n",
       "    </tr>\n",
       "    <tr>\n",
       "      <th>51315</th>\n",
       "      <td>51316</td>\n",
       "      <td>6.0</td>\n",
       "      <td>Male</td>\n",
       "      <td>140000.00000</td>\n",
       "    </tr>\n",
       "    <tr>\n",
       "      <th>51319</th>\n",
       "      <td>51320</td>\n",
       "      <td>10.0</td>\n",
       "      <td>Male</td>\n",
       "      <td>105000.00000</td>\n",
       "    </tr>\n",
       "    <tr>\n",
       "      <th>51378</th>\n",
       "      <td>51379</td>\n",
       "      <td>10.0</td>\n",
       "      <td>Male</td>\n",
       "      <td>107526.88172</td>\n",
       "    </tr>\n",
       "  </tbody>\n",
       "</table>\n",
       "<p>1605 rows × 4 columns</p>\n",
       "</div>"
      ],
      "text/plain": [
       "       Respondent  CareerSatisfaction Gender        Salary\n",
       "2               3                 8.0   Male  113750.00000\n",
       "14             15                 8.0   Male  100000.00000\n",
       "17             18                 9.0   Male  130000.00000\n",
       "22             23                 8.0   Male  100764.00000\n",
       "25             26                 7.0   Male  175000.00000\n",
       "...           ...                 ...    ...           ...\n",
       "51311       51312                 9.0   Male  105400.00000\n",
       "51312       51313                 7.0   Male  120000.00000\n",
       "51315       51316                 6.0   Male  140000.00000\n",
       "51319       51320                10.0   Male  105000.00000\n",
       "51378       51379                10.0   Male  107526.88172\n",
       "\n",
       "[1605 rows x 4 columns]"
      ]
     },
     "execution_count": 809,
     "metadata": {},
     "output_type": "execute_result"
    }
   ],
   "source": [
    "gender=(df_fem2['Gender'] == 'Male')\n",
    "CS=(df_fem2['CareerSatisfaction'] >= 6.0)\n",
    "Salary = (df_fem2['Salary'] >= 100000)\n",
    "dev_fem2=df_fem2[gender & CS & Salary]#female devs that have high career satisfaction\n",
    "    \n",
    "dev_fem2"
   ]
  },
  {
   "cell_type": "code",
   "execution_count": 808,
   "id": "actual-czech",
   "metadata": {},
   "outputs": [
    {
     "data": {
      "text/plain": [
       "0.031230541718555417"
      ]
     },
     "execution_count": 808,
     "metadata": {},
     "output_type": "execute_result"
    }
   ],
   "source": [
    "dev_fem2.shape[0] / df.shape[0]"
   ]
  },
  {
   "cell_type": "markdown",
   "id": "dried-narrative",
   "metadata": {},
   "source": [
    "# 3% OF THE SOFTWARE DEVELOPERS THAT TOOK THE SURVEY ARE 'SUCCESSFUL' MEN "
   ]
  }
 ],
 "metadata": {
  "kernelspec": {
   "display_name": "Python 3",
   "language": "python",
   "name": "python3"
  },
  "language_info": {
   "codemirror_mode": {
    "name": "ipython",
    "version": 3
   },
   "file_extension": ".py",
   "mimetype": "text/x-python",
   "name": "python",
   "nbconvert_exporter": "python",
   "pygments_lexer": "ipython3",
   "version": "3.9.1"
  }
 },
 "nbformat": 4,
 "nbformat_minor": 5
}
